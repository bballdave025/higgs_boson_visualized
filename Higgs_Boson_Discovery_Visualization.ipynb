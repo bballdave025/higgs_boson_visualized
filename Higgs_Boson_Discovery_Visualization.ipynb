{
 "cells": [
  {
   "cell_type": "markdown",
   "id": "71d37c59",
   "metadata": {},
   "source": [
    "# Higgs Boson Discovery\n",
    "\n",
    "2023-03-14 [?](#Disclaimer)\n",
    "\n",
    "## (What I Think Is) The Easiest Way\n",
    "\n",
    "The easier way to do this, which is also more fun, is to use a cool link such as\n",
    "\n",
    "[![Binder](https://mybinder.org/badge_logo.svg)](https://mybinder.org/v2/gh/bballdave025/higgs_boson_visualized/main?labpath=Higgs_Boson_Discovery_Visualization.ipynb) \n",
    "\n",
    "This wonderful [MyBinder](https://www.mybinder.org) stuff will let you interact with code, see the code run, and get much better visualizations than you could just by looking at it here in GitHub.\n",
    "\n",
    "If that doesn't work, check out [the issue solution](#) @TODO set up the issue page and get the nice solution, like in [Appendix E](Appendix-E); you might realize how easy it is to get your own Jupyter Notebook online, executable, and interactive leading to you doing one yourself!\n",
    "\n",
    "## Other Ways Work, Too\n",
    "\n",
    "You can also run through this with your own Jupyter or your local machine Python. I've tried to make it possible to follow this using any of those options.\n",
    "\n",
    "### Disclaimer\n",
    "\n",
    "Because of the date under the title, I include the following sub-header."
   ]
  },
  {
   "cell_type": "markdown",
   "id": "e6cd1bd5",
   "metadata": {},
   "source": [
    "## rediscovery (?), re-analysis (?), one more time (?)\n",
    "\n",
    "A nice visualization to take me back to grad school - where I worked at [BNL](https://www.bnl.gov) / [RHIC](https://www.bnl.gov/rhic/) / [PHENIX](https://www.phenix.bnl.gov/) ([archived](https://web.archive.org/web/20230314100142/https://www.bnl.gov/world/) / [archived](https://web.archive.org/web/20230312202521/https://www.bnl.gov/rhic/) / [archived](https://web.archive.org/web/20230314191656/https://www.phenix.bnl.gov/)) which basically means I worked at a government particle accelerator. I wasn't at [CERN](https://home.cern/) / [LHC]() / [CMS](https://home.cern/science/experiments/cms) ([archived](https://web.archive.org/web/20230314192144/https://home.cern/) / [archived]() / [archived](https://web.archive.org/web/20230314192110/https://home.cern/science/experiments/cms)), which is one of the experiments contributing to the discovery of the Higgs boson and the provider of the data I'll be using. I did participate in _some_ collaboration with LHC groups. I was even invited to the [4<super>th</super> of July Discovery Announcement](https://en.wikipedia.org/wiki/Higgs_boson#Search_before_4_July_2012) ([archived](https://web.archive.org/web/20230314192829/https://en.wikipedia.org/wiki/Higgs_boson)), but I got my keys locked in my car while hanging out with friends halfway to Columbia University. (I think reality makes for a better story - we got in my car using tree branches, but it was long past the midnight announcement time.)\n",
    "\n",
    "The results (when I accomplish my goal) should look something like what follows. The image comes from https://arxiv.org/format/1207.7235, the discovery paper for the Higgs.\n",
    "\n",
    "<br/>\n",
    "<div>\n",
    "  <img src=\"./publication_4lepton_spectrum.png\"\n",
    "       alt=\"Publication histogram - our goal for the analysis is to be similar to this\"\n",
    "       width=\"400px\">\n",
    "</div>\n",
    "<br/>"
   ]
  },
  {
   "cell_type": "markdown",
   "id": "7f07daf7",
   "metadata": {},
   "source": [
    "## Setup\n",
    "\n",
    "Using `conda` for environment setup. This time, because of computer availability, I did it on the Windows CMD prompt (`Anaconda Prompt (miniconda3)`, specifically). `Jupyter` makes for simpler visualizations, so here I am."
   ]
  },
  {
   "cell_type": "markdown",
   "id": "713d786a",
   "metadata": {},
   "source": [
    "### Virtual Environment And Getting From Git\n",
    "\n",
    "If you're seeing the notebook simply displayed on GitHub and want to run it, this part will show you how. Note that you can just run the commands from a normal command line, though. For doing this with a Jupyter notebook, use either \n",
    "\n",
    "1) I've now got it set up with [MyBinder](https://mybinder.org/), so click the badge below.\n",
    "\n",
    "This Jupyter notebook is now available (and executable)\n",
    "\n",
    "1st (for comparison)\n",
    "\n",
    "[![Binder](https://mybinder.org/badge_logo.svg)](https://hub.ovh2.mybinder.org/user/bballdave025-hi-oson_visualized-r2tutfn0/doc/tree/Higgs_Boson_Discovery_Visualization.ipynb)\n",
    "\n",
    "2nd (from the mybinder.org page - i.e. before URL resolution - for comparison and issue resolution)\n",
    "\n",
    "[![Binder](https://mybinder.org/badge_logo.svg)](https://mybinder.org/v2/gh/bballdave025/higgs_boson_visualized/main?labpath=Higgs_Boson_Discovery_Visualization.ipynb)\n",
    "\n",
    "3rd (another one from the MyBinder page without URL resolution). This was with the really-working `environment.yml` put up to the repo and ready for MyBinder.\n",
    "\n",
    "[![Binder](https://mybinder.org/badge_logo.svg)](https://mybinder.org/v2/gh/bballdave025/higgs_boson_visualized/main?labpath=Higgs_Boson_Discovery_Visualization.ipynb)\n",
    "\n",
    "4th (the resolved URL after rebuilding on MyBinder.)\n",
    "\n",
    "\n",
    "\n",
    "You can run everything from that, if you'd like. Actually, I highly recommend doing so. MyBinder is a wonderful way to see, learn, and play with code. (You're welcome to do it another way if you are wanting to learn more about using this stuff in Python scripts or need to do more of the nuts and bolts of Jupyter itself, in which case, you should go to choice '2)'.)\n",
    "\n",
    "*If the MyBinder* stuff doesn't come up**, probably giving a 424 error something like what's below (where I've only given a small image for the idea) ...\n",
    "\n",
    "<br/>\n",
    "<div>\n",
    "  <img src=\"./mybinder_is_gone.png\"\n",
    "       alt=\"A screencap of the MyBinder Error, Oops! We can't seem to find the binder ...\"\n",
    "       style=\"width: 200px; display: block;\">\n",
    "</div>\n",
    "<br/>\n",
    "\n",
    "... go down to [Appendix E](#Appendix-E), where you can see the full-size image and a full-size solution where you can get MyBinder working and interact with this notebook online.\n",
    "\n",
    "2) Set up a virtual environment. Make a new folder (directory) for the project and go there.\n",
    "\n",
    "#### Python without conda //A//\n",
    "\n",
    "On a normal `Python` setup (this one with Windows)\n",
    "\n",
    "```\n",
    ">mkdir higgs_boson\n",
    ">python -m venv .\\higgs_boson\n",
    ">.\\higgs_boson\\Scripts\\activate\n",
    "(higgs_boson)>\n",
    "```\n",
    "\n",
    "#### Python with conda //B//\n",
    "\n",
    "On a `conda` setup (again, for this time, with Windows)\n",
    "\n",
    "```\n",
    "> conda create --name higgs_boson python=3.10\n",
    "> conda activate higgs_boson\n",
    "(higgs_boson)>\n",
    "```\n",
    "\n",
    "#### After either of the previous two ( //A// or //B//)\n",
    "\n",
    "Note that my Higgs visualization is now solo in its own repo. I'll put some pictures and a link back on the main visualization page\n",
    "\n",
    "```\n",
    "(higgs_boson)> git clone https://github.com/bballdave025/higgs_boson_visualized.git\n",
    "(higgs_venv)> cd higgs_boson_visualized\n",
    "```"
   ]
  },
  {
   "cell_type": "markdown",
   "id": "b6f3078f",
   "metadata": {},
   "source": [
    "### When are we? (good for experimental notebooks)\n",
    "\n",
    "I'm putting up a new date for now, when I'm getting this all presentable. (The previous start date was 14 March - pi day, or should I say, \"$\\pi$ day\".)\n",
    "\n",
    "```\n",
    "(higgs_boson)>powershell -c (Get-Date -UFormat \"%s_%Y%m%dT%H%M%S%Z00\") -replace '[.][0-9]{5}_', '_'\n",
    "1680453764_20230402T164244-0600\n",
    "\n",
    ">::  Or, in case you don't have access to PowerShell,\n",
    ">::+ you can extract the same from the following mess.\n",
    ">::\n",
    "(higgs_boson)>(set LOCALE_INFO=) && (echo( > nul) && (for /f \"usebackq tokens=*\" %k in (`systeminfo ^| findstr \";\" ^| cmd /q /v:on /c \"set/p .=&echo(!.!\"`) do @if not defined LOCALE_INFO set \"LOCALE_INFO=%k\") && (echo() && (for /f \"tokens=*\" %i in ('tzutil /g') do @echo \"%date%\" \"%time%\" \"%i\" \"%LOCALE_INFO%\") && (echo() && (w32tm /tz) && (echo()\n",
    "\n",
    "\"Sun 04/02/2023\" \"19:37:47.03\" \"Mountain Standard Time\" \"System Locale:             en-us;English (United States)\"\n",
    "\n",
    "Time zone: Current:TIME_ZONE_ID_DAYLIGHT Bias: 420min (UTC=LocalTime+Bias)\n",
    "  [Standard Name:\"Mountain Standard Time\" Bias:0min Date:(M:11 D:1 DoW:0)]\n",
    "  [Daylight Name:\"Mountain Daylight Time\" Bias:-60min Date:(M:3 D:2 DoW:0)]\n",
    "\n",
    "\n",
    "(higgs_boson)>\n",
    "(higgs_boson)>::\n",
    ">::\n",
    ">::  Gosh, that makes me miss bash\n",
    "```"
   ]
  },
  {
   "cell_type": "markdown",
   "id": "a5b2d9a5",
   "metadata": {},
   "source": [
    "<hr/>"
   ]
  },
  {
   "cell_type": "markdown",
   "id": "5f198b7f",
   "metadata": {},
   "source": [
    "### Environment stuff, pip installs, and maybe on to Jupyter \n",
    "\n",
    "Note that this needs to be done whether we're using Jupyter or not. If we're using Jupyter, you _must_ do this before starting the Jupyter server.\n",
    "\n",
    "```\n",
    "::  These next two commands can be done if you are trying \n",
    "::+ this on the command line, rather than from Jupyter\n",
    "::+ or if you simply didn't do it earlier.\n",
    ">conda create --name higgs_boson python=3.10\n",
    ">conda activate higgs_boson\n",
    "(higgs_boson)>\n",
    ":: Do the following no matter what\n",
    "(higgs_boson)>python -m pip install --upgrade pip\n",
    "(higgs_boson)>pip install pathlib\n",
    "(higgs_boson)>pip install requests\n",
    "(higgs_boson)>pip install numpy\n",
    "(higgs_boson)>pip install pandas\n",
    "(higgs_boson)>pip install matplotlib\n",
    "```"
   ]
  },
  {
   "cell_type": "markdown",
   "id": "799e1d82",
   "metadata": {},
   "source": [
    "If you want to launch the Jupyter notebook from your own machine,\n",
    "\n",
    "```\n",
    "(higgs_boson)>pip install jupyter\n",
    "(higgs_boson)>jupyter notebook Higgs_Boson_Discovery_Visualization.ipynb\n",
    "```\n",
    "\n",
    "That should take you to your browser, where you'll see the notebook ... and be able to interact with it."
   ]
  },
  {
   "cell_type": "markdown",
   "id": "b8e46932",
   "metadata": {},
   "source": [
    "Now, we can do our initial imports and image-dispay setup. "
   ]
  },
  {
   "cell_type": "markdown",
   "id": "8c93504d",
   "metadata": {},
   "source": [
    "### Imports and other setup"
   ]
  },
  {
   "cell_type": "code",
   "execution_count": 1,
   "id": "6b9a0b9b",
   "metadata": {},
   "outputs": [],
   "source": [
    "import numpy  as np\n",
    "import pandas as pd\n",
    "from matplotlib import pyplot as plt\n",
    "\n",
    "## Next line only for Jupyter notebook.\n",
    "%matplotlib inline"
   ]
  },
  {
   "cell_type": "markdown",
   "id": "629634ec",
   "metadata": {},
   "source": [
    "Before I had the version you're seeing now, I was doing some learning on formatting tables inside my Jupyter notebook. I had wanted to make a big `'Wanna Skip Physics? Click -> HERE'` button. You can see the specifics in Appendix D, which is hyperlinked below.\n",
    "\n",
    "It turned out that changing the table HTML `<style>` changed the output of things like `my_pandas_dataframe.head()`, which uses HTML table formatting unless you wrap it in something like `print(my_pandas_dataframe.head())`.\n",
    "\n",
    "I figure that the new button, which looks like this inline image - <span>\n",
    "  <img src=\"./the_new_button.png\"\n",
    "       alt=\"The new table-slash-button to skip physics\"\n",
    "       style=\"width: 150px; display: inline-block;\">\n",
    "</span> - seems all right. (That image won't work as a link, but the table that looks like it in the next cell _will_ work.) Rather than mess with the `pandas` display by switching the HTML style back and forth with what seem to be called magic HTML code, I'm just letting the little, centered table/button suffice.\n",
    "\n",
    "I _do_ want to remember the work that I did. I want it as a reference in the place where I used it, so a description and the code I used will be down near the end in [Appendix D](#Appendix-D).\n",
    "\n",
    "<br/>\n",
    "<hr/>"
   ]
  },
  {
   "cell_type": "markdown",
   "id": "0eebd61a",
   "metadata": {},
   "source": [
    "## Some Info (Physics)\n",
    "\n",
    "***If you want to skip the physics, and I understand if you do, head to*** [the start of the analysis](#Starting-The-Analysis). **I suggest you at least look at the pictures in this first part, though.** \n",
    "\n",
    "Further down in the notebook, and here for that matter, you can skip past some physics stuff by mashing the colored button in a table that looks like this:\n",
    "\n",
    "|Wanna|Skip|Physics?|\n",
    "|-|-|-|\n",
    "|Mash|`->`|<span style=\"color: red; background-color: #00ee00;\"><a href=\"#Starting-The-Analysis\">HERE</a></span>|\n",
    "\n",
    "<br/>\n",
    "\n",
    "<div style=\"font-size:200%\">\n",
    "    <p>At least skim this one, though,</p>\n",
    "    <p>if only for the pictures.</p>\n",
    "</div>\n",
    "\n",
    "<br/>\n",
    "\n",
    "Let's talk a little about the physics of the data we'll be looking at. You may know that Uranium can decay into lighter elements, as long as the combined mass-energy of the daughters (lighter elements' atoms, energy) is the same as the combined mass-energy - usually just the original mass - of the original Uranium.\n",
    "\n",
    "The same happens for particles. The Higgs boson can decay into lighter particles and energy as long as its daughter decay particles and the energy is equal to the original mass-energy of the Higgs. One way that physics allows this to happen is for the Higgs to decay into four $\\ell$eptons. (I use the script '$\\ell$' to avoid confusion between '1' and 'l'.)\n",
    "\n",
    "Here is a way physicists represent such a decay, which has the problems noted on the image.\n",
    "\n",
    "<br/>\n",
    "<div>\n",
    "  <img src=\"./four_leptons_description_01.png\"\n",
    "       alt=\"Born (basically Feynman) diagrams for the two possible Higgs to four electrons scenario.\"\n",
    "       width=100%>\n",
    "</div>\n",
    "<br/>\n",
    "\n",
    "(In case you're curious, I'll tell you that the the $Z^{(*)}$ lines are for off-shell (virtual) Z-bosons. You can look up details if you'd like. Actually, to be technically correct, the Higgs boson should be off-shell (virtual), too, and we should see it labeled $H^{(*)}$. Just for fun, I'll put in this image from the [Wikipedia article on the Higgs boson](https://en.wikipedia.org/wiki/Higgs_boson#Discovery_of_candidate_boson_at_CERN) ([archived](https://web.archive.org/web/20230314192829/https://en.wikipedia.org/wiki/Higgs_boson)). It should show up even if changes are made to the wiki article and or the image, because I'm using an [archived image](https://web.archive.org/web/20230314233304/https://en.wikipedia.org/wiki/File:4-lepton_Higgs_decay.svg). This diagram doesn't show whether something is off-shell/virtual with the $^{(*)}$, because one learns that anything in the middle of such a diagram is virtual/off-shell. Also, this next diagram shows only part of the interaction - the two protons have six valence quarks and gluons holding them together. At our collision energy, you would expect to find a lot of gluons - definitely more than two.\n",
    "\n",
    "<br/>\n",
    "<div>\n",
    "  <img src=\"https://web.archive.org/web/20230314233304/https://upload.wikimedia.org/wikipedia/commons/thumb/b/b2/4-lepton_Higgs_decay.svg/320px-4-lepton_Higgs_decay.svg.png\"\n",
    "       alt=\"Both sides of the diagram for Higgs to four leptons\"\n",
    "       width=\"480px\">\n",
    "</div>\n",
    "<br/>\n",
    "\n",
    "That represents to protons coming in and four leptons coming out.\n",
    "\n",
    "### Three decay possibilites\n",
    "\n",
    "In the first image, I said that we could simplify things while including more leptons than the electron. Let's use these symbols,\n",
    "\n",
    "<br/>\n",
    "<div>\n",
    "  <img src=\"./four_leptons_description_02.png\"\n",
    "       alt=\"Symbols for electron, positron (positive version of the electron), muon, and antimuon (positive version of the muon)\"\n",
    "       width=300px>\n",
    "</div>\n",
    "<br/>\n",
    "\n",
    "and give the three possibilites. We'll see these possibilities in the names of the `CSV` files.\n",
    "\n",
    "2023-03-15\n",
    "\n",
    "**Possibility 1: ... $H^{(*)} \\rightarrow \\{ 2 Z^{(*)} \\} \\rightarrow \\{ 4e \\}$**<br/>\n",
    "**Higgs to 4 electrons (via two Z bosons and after previous interactions)**\n",
    "\n",
    "<br/>\n",
    "<div>\n",
    "  <img src=\"./decay_four_leptons_four_electrons.png\"\n",
    "       alt=\"Off-mass-shell (virtual) Higgs to two off-mass-shell (virtual) Z bosons to four electrons\"\n",
    "       width=450px>\n",
    "</div>\n",
    "<br/>\n",
    "\n",
    "**Possibility 1: ... $H^{(*)} \\rightarrow \\{ 2 Z^{(*)} \\} \\rightarrow \\{ 4\\mu \\}$**<br/>\n",
    "**Higgs to four muons (via two Z bosons and after previous interactions)**\n",
    "\n",
    "<br/>\n",
    "<div>\n",
    "  <img src=\"./decay_four_leptons_four_muons.png\"\n",
    "       alt=\"Off-mass-shell (virtual) Higgs to two off-mass-shell (virtual) Z bosons to four muons\"\n",
    "       width=450px>\n",
    "</div>\n",
    "<br/>\n",
    "\n",
    "**Possibility 1: ... $H^{(*)} \\rightarrow \\{ 2 Z^{(*)} \\} \\rightarrow \\{ 2e, 2\\mu \\}$**<br/>\n",
    "**Higgs to 2 electrons and 2 muons (via two Z bosons and after previous interactions)**\n",
    "\n",
    "<br/>\n",
    "<div>\n",
    "  <img src=\"./decay_four_leptons_two_electrons_two_muons.png\"\n",
    "       alt=\"Off-mass-shell (virtual) Higgs to two off-mass-shell (virtual) Z bosons to two electrons and two muons\"\n",
    "       width=450px>\n",
    "</div>\n",
    "<br/>\n",
    "\n",
    "<hr/>"
   ]
  },
  {
   "cell_type": "markdown",
   "id": "70e4ea96",
   "metadata": {},
   "source": [
    "### Some code that didn't work ...\n",
    "\n",
    "... is now in a [note near the end](#Pandas-File-Loading-Problems).\n",
    "\n",
    "2023-03-16\n",
    "\n",
    "Basically, using `pandas.load(<internet-url>)` kept giving me a `HTTPError: HTTP Error 504: Gateway Time-out` error. I figured it will be better to use `requests` and then `pandas`.\n",
    "\n",
    "A quick note, I added a `pip` install of requests to the stuff at the beginnnings. I don't need to do the same for `shutil`, nor `re`, nor `pprint`, nor `math`, nor `<probably-another-one-or-two>` because each of those are part of the standard."
   ]
  },
  {
   "cell_type": "markdown",
   "id": "4c295ba3",
   "metadata": {},
   "source": [
    "<hr/>"
   ]
  },
  {
   "cell_type": "markdown",
   "id": "a6191c7e",
   "metadata": {},
   "source": [
    "## Starting The Analysis\n",
    "\n",
    "### URLs"
   ]
  },
  {
   "cell_type": "code",
   "execution_count": 2,
   "id": "1542ab15",
   "metadata": {},
   "outputs": [],
   "source": [
    "data_csv_urls = []\n",
    "\n",
    "# 4 electrons as daughter particles (two years' data)\n",
    "url_4e_2011 = 'http://opendata.cern.ch/record/5200/files/4e_2011.csv'\n",
    "data_csv_urls.append(url_4e_2011)\n",
    "url_4e_2012 = 'http://opendata.cern.ch/record/5200/files/4e_2012.csv'\n",
    "data_csv_urls.append(url_4e_2012)\n",
    "\n",
    "# 4 muons as daughter particles (two years' data)\n",
    "url_4mu_2011 = 'http://opendata.cern.ch/record/5200/files/4mu_2011.csv'\n",
    "data_csv_urls.append(url_4mu_2011)\n",
    "url_4mu_2012 = 'http://opendata.cern.ch/record/5200/files/4mu_2012.csv'\n",
    "data_csv_urls.append(url_4mu_2012)\n",
    "\n",
    "# 2 electrons and 2 muons as daughter particles (two years' data)\n",
    "url_2e2mu_2011 = 'http://opendata.cern.ch/record/5200/files/2e2mu_2011.csv'\n",
    "data_csv_urls.append(url_2e2mu_2011)\n",
    "url_2e2mu_2012 = 'http://opendata.cern.ch/record/5200/files/2e2mu_2012.csv'\n",
    "data_csv_urls.append(url_2e2mu_2012)"
   ]
  },
  {
   "cell_type": "markdown",
   "id": "2484916f",
   "metadata": {},
   "source": [
    "<hr/>"
   ]
  },
  {
   "cell_type": "markdown",
   "id": "36fb3bdc",
   "metadata": {},
   "source": [
    "### Download using requests and shutil then reading in with pandas"
   ]
  },
  {
   "cell_type": "markdown",
   "id": "b77fa59f",
   "metadata": {},
   "source": [
    "<br/>\n",
    "\n",
    "|Wanna|Skip|Physics?|\n",
    "|-|-|-|\n",
    "|Mash|`->`|<span style=\"color: red; background-color: #00ee00;\"><a href=\"#Putting-All-Data-In\">HERE</a></span>|\n",
    "\n",
    "<br/>"
   ]
  },
  {
   "cell_type": "markdown",
   "id": "1f82c8b5",
   "metadata": {},
   "source": [
    "\\[Started some code, but then ... WAIT ...\\]\n",
    "\n",
    "```\n",
    "#wait# for this_url in data_csv_urls:\n",
    "#wait#  local_filename = this_url.split('/')[-1] #  not general solution \n",
    "#wait#                                           #+ (that would require HTML\n",
    "#wait#                                           #+ headers), but okay for\n",
    "#wait#                                           #+ our known urls.\n",
    "\n",
    "##  Wait, before I loop through all of them,I'll just \n",
    "##+ load in the first one, then we can look at the physics\n",
    "```"
   ]
  },
  {
   "cell_type": "markdown",
   "id": "f4cab7f9",
   "metadata": {},
   "source": [
    "#### Looking at one file"
   ]
  },
  {
   "cell_type": "code",
   "execution_count": 3,
   "id": "8f00f547",
   "metadata": {},
   "outputs": [],
   "source": [
    "##########################################\n",
    "##  A peek at the data for 4e from 2011 ##\n",
    "##+ Side scrolling will be necessary    ##\n",
    "##########################################\n",
    "\n",
    "import requests\n",
    "import shutil\n",
    "from pathlib import Path\n",
    "\n",
    "my_url = 'http://opendata.cern.ch/record/5200/files/4e_2011.csv'\n",
    "local_filename = my_url.split('/')[-1]\n",
    "\n",
    "with requests.get(my_url, stream=True) as r:\n",
    "    r.raise_for_status()\n",
    "    with open(local_filename, 'wb') as f:\n",
    "        shutil.copyfileobj(r.raw, f)\n",
    "    ##endof:  with open ... as f\n",
    "##endof:  with requests ... as r\n",
    "\n",
    "our_file = Path(local_filename)\n",
    "we_have_our_file = ( our_file.is_file() )\n",
    "\n",
    "assert(we_have_our_file)"
   ]
  },
  {
   "cell_type": "markdown",
   "id": "83abc789",
   "metadata": {},
   "source": [
    "If you don't see anything like `Assertion Error`, that means our file has gotten read in. Hooray! We have our file!"
   ]
  },
  {
   "cell_type": "markdown",
   "id": "ff4b0174",
   "metadata": {},
   "source": [
    "<hr/>\n",
    "\n",
    "I want to see if the file size was causing the timeout, or if it was (the most likely explanation) something with my local gateway.\n",
    "\n",
    "For a discussion of the fastest and most-memory-friendly way to count lines in a file (especially big files), see [this note](#Line-Count-Discussion) near the end of the notebook.\n",
    "\n",
    "##### Line-count functions"
   ]
  },
  {
   "cell_type": "code",
   "execution_count": 4,
   "id": "a62a5bb5",
   "metadata": {},
   "outputs": [],
   "source": [
    "def _make_count_generator(reader):\n",
    "    b = reader(1024 * 1024)\n",
    "    while b:\n",
    "        yield b\n",
    "        b = reader(1024*1024)\n",
    "    ##endof:  while b\n",
    "##endof:  def _make_count_generator(reader)\n",
    "\n",
    "\n",
    "#  DWB note: 20230316T164800-0600\n",
    "#+ I don't know what will happen with an empty file\n",
    "def raw_generator_line_count(filename):\n",
    "    with open(filename, 'rb') as fp:\n",
    "        my_generator = _make_count_generator(fp.raw.read)\n",
    "        count = sum(buffer.count(b'\\n') for buffer in my_generator)\n",
    "    ##endof:  with open ... fp\n",
    "    \n",
    "    return count + 1\n",
    "    \n",
    "##endof:  def raw_generator_line_count(filename)"
   ]
  },
  {
   "cell_type": "markdown",
   "id": "0126f26f",
   "metadata": {},
   "source": [
    "##### Line count for file"
   ]
  },
  {
   "cell_type": "code",
   "execution_count": 5,
   "id": "06d05ece",
   "metadata": {},
   "outputs": [
    {
     "name": "stdout",
     "output_type": "stream",
     "text": [
      "\n",
      "File: 4e_2011.csv\n",
      "has 9 lines.\n"
     ]
    }
   ],
   "source": [
    "n_lines = raw_generator_line_count(local_filename)\n",
    "print(\"\\nFile: \" + str(local_filename) + \"\\nhas \" + str(n_lines) + \" lines.\")"
   ]
  },
  {
   "cell_type": "markdown",
   "id": "b6562df9",
   "metadata": {},
   "source": [
    "Well, that was anticlimactic. The output told me that the 4 electron file for 2011 has nine lines."
   ]
  },
  {
   "cell_type": "markdown",
   "id": "28154973",
   "metadata": {},
   "source": [
    "#### Let's have some physics fun with the first batch of data\n",
    "\n",
    "After all, we can visualize it all (with just nine lines, one being the header, and one being the trailing newline, meaning 7 events). As I was saying, some side scrolling or multi-line continuation will be needed, so we need to change some `pandas` stuff."
   ]
  },
  {
   "cell_type": "code",
   "execution_count": 6,
   "id": "e246fb5c",
   "metadata": {},
   "outputs": [
    {
     "name": "stdout",
     "output_type": "stream",
     "text": [
      "                 Run         Event       PID1          E1        px1  \\\n",
      "count       7.000000  7.000000e+00   7.000000    7.000000   7.000000   \n",
      "mean   169313.142857  3.351673e+08   1.571429  132.185000 -21.429387   \n",
      "std      4273.231620  3.750184e+08  11.759495  113.218065  34.336417   \n",
      "min    163659.000000  1.034711e+07 -11.000000   46.296700 -58.328400   \n",
      "25%    165716.500000  6.511811e+07 -11.000000   55.682150 -47.917400   \n",
      "50%    171106.000000  1.419548e+08  11.000000   87.628000 -19.222600   \n",
      "75%    172875.500000  5.934871e+08  11.000000  163.954500  -9.188755   \n",
      "max    173243.000000  8.766590e+08  11.000000  352.097000  41.757600   \n",
      "\n",
      "              py1         pz1         pt1      eta1      phi1        Q1  \\\n",
      "count    7.000000    7.000000    7.000000  7.000000  7.000000  7.000000   \n",
      "mean    23.073559   81.730426   55.990400  0.632904 -0.411380 -0.142857   \n",
      "std     45.076298  145.060001   26.652413  1.347241  2.429490  1.069045   \n",
      "min    -15.448800  -76.166700   32.073500 -1.329820 -2.989660 -1.000000   \n",
      "25%     -8.770395  -10.981260   44.237600 -0.235517 -2.899205 -1.000000   \n",
      "50%     11.559100   32.100200   46.280100  0.576831  0.270053 -1.000000   \n",
      "75%     34.959200  145.512500   55.843500  1.591035  1.712450  1.000000   \n",
      "max    113.027000  347.117000  113.417000  2.472280  2.213460  1.000000   \n",
      "\n",
      "            PID2          E2        px2        py2         pz2        pt2  \\\n",
      "count   7.000000    7.000000   7.000000   7.000000    7.000000   7.000000   \n",
      "mean    4.714286   63.620757  25.288211 -14.758808   10.534498  48.446571   \n",
      "std    10.734901   35.547574  27.233234  39.221809   50.755930  23.279885   \n",
      "min   -11.000000   26.686300 -20.510500 -95.389400  -54.669200  24.078400   \n",
      "25%     0.000000   41.119150   8.110640 -19.495600  -10.573050  36.659550   \n",
      "50%    11.000000   45.856800  40.661400  -7.347430    7.506290  43.673200   \n",
      "75%    11.000000   83.171950  42.378550   6.865888   15.678250  51.108150   \n",
      "max    11.000000  124.220000  55.888200  24.684600  110.694000  95.839000   \n",
      "\n",
      "           eta2      phi2        Q2  PID3          E3        px3        py3  \\\n",
      "count  7.000000  7.000000  7.000000   7.0    7.000000   7.000000   7.000000   \n",
      "mean   0.079503 -0.098396 -0.428571 -11.0   48.161214  -5.150364   0.933934   \n",
      "std    0.798752  1.233061  0.975900   0.0   55.406734  19.063773  25.749589   \n",
      "min   -1.094270 -1.473900 -1.000000 -11.0   10.166300 -39.950700 -39.762700   \n",
      "25%   -0.307269 -0.825790 -1.000000 -11.0   19.066900 -10.303510 -14.509735   \n",
      "50%    0.171039 -0.130717 -1.000000 -11.0   27.256100  -0.600474   6.409370   \n",
      "75%    0.333493  0.151661  0.000000 -11.0   46.094650   1.050672  17.850820   \n",
      "max    1.427300  2.264100  1.000000 -11.0  169.383000  23.004300  33.208700   \n",
      "\n",
      "              pz3        pt3      eta3      phi3   Q3       PID4         E4  \\\n",
      "count    7.000000   7.000000  7.000000  7.000000  7.0   7.000000   7.000000   \n",
      "mean    30.755871  27.238094  0.406535  0.395111  1.0   4.714286  25.901444   \n",
      "std     60.116408  13.887762  0.879695  2.064835  0.0  10.734901  15.020856   \n",
      "min     -6.323150   9.442200 -0.627642 -2.178500  1.0 -11.000000   7.571910   \n",
      "25%      0.453575  16.798980 -0.085463 -1.455255  1.0   0.000000  15.170250   \n",
      "50%     13.016400  26.453500  0.377676  0.964974  1.0  11.000000  26.682200   \n",
      "75%     21.597850  40.082750  0.577324  1.987865  1.0  11.000000  32.677700   \n",
      "max    164.495000  41.007500  2.111990  2.914080  1.0  11.000000  51.360100   \n",
      "\n",
      "             px4        py4        pz4        pt4      eta4      phi4  \\\n",
      "count   7.000000   7.000000   7.000000   7.000000  7.000000  7.000000   \n",
      "mean   -0.656836  -5.667795  -7.486794  19.997374 -0.197793  0.763278   \n",
      "std    21.407904  13.017569  16.649176  14.113508  0.950710  1.957460   \n",
      "min   -36.407800 -25.118200 -32.070900   7.281400 -1.741270 -1.583930   \n",
      "25%    -6.839200 -14.973370 -18.589650   8.198510 -0.589573 -0.916850   \n",
      "50%    -0.091305   0.928434  -2.835530  13.598800 -0.281549  0.995867   \n",
      "75%     5.660225   3.590555   3.864385  31.294050  0.357588  2.324305   \n",
      "max    34.259200   7.280830  11.949400  40.116300  1.102240  3.116100   \n",
      "\n",
      "             Q4        mZ1        mZ2           M  \n",
      "count  7.000000   7.000000   7.000000    7.000000  \n",
      "mean  -0.428571  85.417686  51.252386  185.211843  \n",
      "std    0.975900  10.873366  34.246299  102.381938  \n",
      "min   -1.000000  68.635200  20.094500   95.425900  \n",
      "25%   -1.000000  80.860350  23.795750  113.225500  \n",
      "50%   -1.000000  91.417800  28.451700  138.193000  \n",
      "75%    0.000000  91.737750  84.816900  236.437500  \n",
      "max    1.000000  92.674600  92.995200  363.538000  \n"
     ]
    }
   ],
   "source": [
    "pd.options.display.max_columns = 50\n",
    "\n",
    "# Get our dataframe\n",
    "my_4e2011_df = pd.read_csv(local_filename)\n",
    "\n",
    "#my_4e2011_df.describe(include=\"all\") #  That will give you a scrollable,\n",
    "                                      #+ HTML-type table\n",
    "\n",
    "print(my_4e2011_df.describe(include=\"all\")) # Just plain-text output"
   ]
  },
  {
   "cell_type": "markdown",
   "id": "27686412",
   "metadata": {},
   "source": [
    "That might be more information than we get by looking at the whole dataset with `head`."
   ]
  },
  {
   "cell_type": "code",
   "execution_count": 7,
   "id": "8ba0a031",
   "metadata": {},
   "outputs": [
    {
     "name": "stdout",
     "output_type": "stream",
     "text": [
      "      Run      Event  PID1        E1       px1        py1        pz1  \\\n",
      "0  167675  876658967   -11   46.2967 -45.47210   -8.61010   -1.24072   \n",
      "1  173243   16706390    11  352.0970 -58.32840   -8.93069  347.11700   \n",
      "2  171106  141954801    11   49.6757  -8.98850   44.24350  -20.72180   \n",
      "3  163758  113529826   -11  112.0390 -19.22260   25.67490  107.35000   \n",
      "4  172952  842265702   -11   87.6280  41.75760   11.55910  -76.16670   \n",
      "5  163659  344708580    11   61.6886 -50.36270  -15.44880   32.10020   \n",
      "6  172799   10347106    11  215.8700  -9.38901  113.02700  183.67500   \n",
      "\n",
      "        pt1      eta1      phi1  Q1  PID2        E2       px2        py2  \\\n",
      "0   46.2801 -0.026806 -2.954460   1    11   45.8568  43.53670  14.370800   \n",
      "1   59.0081  2.472280 -2.989660  -1   -11  124.2200  55.88820  -7.347430   \n",
      "2   45.1473 -0.444228  1.771230  -1    11   68.4708  41.22040  -0.639024   \n",
      "3   32.0735  1.922810  2.213460   1    11   26.6863   6.94914 -23.053800   \n",
      "4   43.3279 -1.329820  0.270053   1    11   37.9247 -20.51050  24.684600   \n",
      "5   52.6789  0.576831 -2.843950  -1   -11   44.3136  40.66140 -15.937400   \n",
      "6  113.4170  1.259260  1.653670  -1    11   97.8731   9.27214 -95.389400   \n",
      "\n",
      "          pz2      pt2      eta2      phi2  Q2  PID3        E3        px3  \\\n",
      "0   -0.940301  45.8472 -0.020508  0.318824  -1   -11   27.2561 -13.673400   \n",
      "1  110.694000  56.3691  1.427300 -0.130717   1   -11  169.3830  23.004300   \n",
      "2  -54.669200  41.2253 -1.094270 -0.015501  -1   -11   42.6373  -0.600474   \n",
      "3   11.506000  24.0784  0.461317 -1.278030  -1   -11   10.1663   2.352000   \n",
      "4  -20.205800  32.0938 -0.594030  2.264100  -1   -11   11.3639  -6.933620   \n",
      "5    7.506290  43.6732  0.171039 -0.373550   1   -11   26.7699  -0.250656   \n",
      "6   19.850500  95.8390  0.205670 -1.473900  -1   -11   49.5520 -39.950700   \n",
      "\n",
      "        py3        pz3       pt3      eta3      phi3  Q3  PID4        E4  \\\n",
      "0 -19.65970   13.01640  23.94720  0.519816 -2.178500   1    11   7.57191   \n",
      "1  33.20870  164.49500  40.39820  2.111990  0.964974   1    11  28.82550   \n",
      "2 -39.76270   15.37870  39.76730  0.377676 -1.585900   1   -11  36.52990   \n",
      "3  -9.35977   -3.19643   9.65076 -0.325435 -1.324610   1    11  12.23760   \n",
      "4   6.40937   -6.32315   9.44220 -0.627642  2.395460   1    11  26.68220   \n",
      "5  26.45230    4.10358  26.45350  0.154509  1.580270   1    11  18.10290   \n",
      "6   9.24934   27.81700  41.00750  0.634832  2.914080   1   -11  51.36010   \n",
      "\n",
      "         px4        py4       pz4       pt4      eta4      phi4  Q4      mZ1  \\\n",
      "0  -0.091305   7.280830  -2.07727   7.28140 -0.281549  1.583340  -1  91.9271   \n",
      "1   7.339310 -25.118200 -12.08810  26.16850 -0.446908 -1.286520  -1  91.4178   \n",
      "2 -36.407800   0.928434  -2.83553  36.41960 -0.077779  3.116100   1  91.5484   \n",
      "3   3.981140   6.144260   9.80604   7.32130  1.102240  0.995867  -1  70.4304   \n",
      "4  -0.119199  -9.074940 -25.09120   9.07572 -1.741270 -1.583930  -1  68.6352   \n",
      "5 -13.559200   1.036850  11.94940  13.59880  0.792955  3.065270  -1  92.6746   \n",
      "6  34.259200 -20.871800 -32.07090  40.11630 -0.732237 -0.547180   1  91.2903   \n",
      "\n",
      "       mZ2         M  \n",
      "0  27.3974  125.5280  \n",
      "1  92.9952  285.9600  \n",
      "2  87.7217  186.9150  \n",
      "3  20.1941  100.9230  \n",
      "4  20.0945   95.4259  \n",
      "5  28.4517  138.1930  \n",
      "6  81.9121  363.5380  \n"
     ]
    }
   ],
   "source": [
    "#out-for-now#my_4e2011_df.head(10) #  That will give you a scrollable,\n",
    "                                   #+ HTML-type table\n",
    "\n",
    "print(my_4e2011_df.head(10)) #  Just plain-text output. There are less\n",
    "                             #+ than ten events, so we will see all of\n",
    "                             #+ the data"
   ]
  },
  {
   "cell_type": "markdown",
   "id": "fa36886f",
   "metadata": {},
   "source": [
    "<hr/>"
   ]
  },
  {
   "cell_type": "markdown",
   "id": "3b26c632",
   "metadata": {},
   "source": [
    "In particle physics, we have something called the [invariant mass](https://en.wikipedia.org/wiki/Invariant_mass) ([archived](https://web.archive.org/web/20230313220738/https://en.wikipedia.org/wiki/Invariant_mass)). The invariant mass in such a collision - when talking about daughter particles - is the mass of the particle that decayed. It's the big '`M`' in the last column. (If you don't understand that, don't worry - just forget I said anything.)\n",
    "\n",
    "There are a lot of different masses in that last column. Consider that an electron has a mass of about $0.5 \\  \\text{MeV}/\\text{c}^2$, which is the same as $0.0005 \\  \\text{GeV}/\\text{c}^2$. (We'll get back to that.) \n",
    "\n",
    "***&lt;part-you-can-skip&gt;***<br/>\n",
    "Particle physicists, again with our own quirky little ways, use a system called [natural units](https://en.wikipedia.org/wiki/Natural_units#Natural_units_(particle_and_atomic_physics)) ([archived](https://web.archive.org/web/20230316232513/https://en.wikipedia.org/wiki/Natural_units)). Some will say that this allows us to write $c$ (the speed of light) as $1$. That's oversimplifying it (it's more like making the physical-constant coefficients equal to $1$, in this case one could argue that our strategy for doing so is making the length unit the same as the time unit, since each are just dimensions in General Relativity - Special Relativity, too, for that matter - ... -ish). Let's just say it lets us get away with writing equations and measurements without including the defining constants, which include $c$. If you want to know more, you can also look up [nondimensionalization](https://en.wikipedia.org/wiki/Nondimensionalization) ([archived](https://web.archive.org/web/20230316040337/https://en.wikipedia.org/wiki/Nondimensionalization))); I'm guessing you probably _don't_ want to know more, or even as much as I've said.<br/>\n",
    "***&lt;/part-you-can-skip&gt;***\n",
    "\n",
    "All of that to say that we can approximate the masses of the electron and the Higgs as \n",
    "\n",
    "`{mass_electron, mass_higgs} = {0.5 MeV, 126000 MeV} = {0.0005 GeV, 126 GeV}`\n",
    "\n",
    "Any way you look at it, that Higgs is a _lot_ more massive than four electrons. Where does the extra mass go? Well, some of the mass gets converted into energy (remember $E = m c^2$), a lot of it being energy of motion, but a lot of it also being energy that coalesces into new particles. \n",
    "\n",
    "The general formula for invariant mass, $m_0$, for one particle in this case, is\n",
    "\n",
    "$m_0 = \\sqrt{E^2 - \\lvert \\textbf{p} \\rvert^2}$\n",
    "\n",
    "Note that this is in natural units. The value of $c$ can be considered as $1$ (in speed-of-light units)."
   ]
  },
  {
   "cell_type": "markdown",
   "id": "03f5acfc",
   "metadata": {},
   "source": [
    "<hr/>"
   ]
  },
  {
   "cell_type": "markdown",
   "id": "7520937c",
   "metadata": {},
   "source": [
    "Let's look at the mass issue in two ways, both using the invariant mass. \n",
    "\n",
    "First, I tried looking at each electron's invariant mass. It took me a while to get all the debugging done, but I think I'm at a good point. I still have some questions I'll be taking to the Physics StackExchange site, though. \n",
    "\n",
    "As somewhat of a sanity check, I found the invariant mass of the particle that decayed into four leptons (four electrons in the case we're doing). \n",
    "\n",
    "We'll take a look at one event to check things out.\n",
    "\n",
    "Here's some code to let you see the info we get from one event - basically the headers and the values for <strike>the first</strike> any event."
   ]
  },
  {
   "cell_type": "code",
   "execution_count": 8,
   "id": "afa1da59",
   "metadata": {},
   "outputs": [],
   "source": [
    "import re\n",
    "\n",
    "table_of_tables = []\n",
    "current_table = []\n",
    "is_a_new_table = True\n",
    "is_the_first_element = True\n",
    "\n",
    "for my_header in my_4e2011_df.columns.values.tolist():\n",
    "    if ( re.match(r\"PID\\d+\", my_header) or\n",
    "         re.match(r\"mZ1\", my_header) or\n",
    "         re.match(r\"M\", my_header)):\n",
    "        is_a_new_table = True\n",
    "    ##endof:  if <and all the re.match>\n",
    "    \n",
    "    if is_a_new_table:\n",
    "        if not is_the_first_element:\n",
    "            table_of_tables.append(current_table)\n",
    "        else:\n",
    "            is_the_first_element = False\n",
    "        ##endof:  if/else is_not_the_first_element\n",
    "        \n",
    "        current_table = [my_header]\n",
    "        is_a_new_table = False\n",
    "        \n",
    "    else:\n",
    "        current_table.append(my_header)\n",
    "    ##endof:  if/else is_a_new_table\n",
    "    \n",
    "##endof:  for my_header in my_4e2011_df.columns.values.tolist()\n",
    "\n",
    "table_of_tables.append(current_table)"
   ]
  },
  {
   "cell_type": "code",
   "execution_count": 9,
   "id": "9dd4beb7",
   "metadata": {},
   "outputs": [
    {
     "name": "stdout",
     "output_type": "stream",
     "text": [
      "[['Run', 'Event'],\n",
      " ['PID1', 'E1', 'px1', 'py1', 'pz1', 'pt1', 'eta1', 'phi1', 'Q1'],\n",
      " ['PID2', 'E2', 'px2', 'py2', 'pz2', 'pt2', 'eta2', 'phi2', 'Q2'],\n",
      " ['PID3', 'E3', 'px3', 'py3', 'pz3', 'pt3', 'eta3', 'phi3', 'Q3'],\n",
      " ['PID4', 'E4', 'px4', 'py4', 'pz4', 'pt4', 'eta4', 'phi4', 'Q4'],\n",
      " ['mZ1', 'mZ2'],\n",
      " ['M']]\n"
     ]
    }
   ],
   "source": [
    "import pprint # prettyprint, what a wonderful module!\n",
    "\n",
    "pprint.pprint(table_of_tables)"
   ]
  },
  {
   "cell_type": "markdown",
   "id": "96eb1b9e",
   "metadata": {},
   "source": [
    "That output can help give you some idea of what data we have. Note that we can use `my_4e2011_df.info()` to get even more info about these (not about their physics, but about the data types, count, etc.) I've done that in a [note near the end](#More-Dataframe-Info)."
   ]
  },
  {
   "cell_type": "markdown",
   "id": "67e92a89",
   "metadata": {},
   "source": [
    "<hr/>"
   ]
  },
  {
   "cell_type": "markdown",
   "id": "e3497e1a",
   "metadata": {},
   "source": [
    "### One daughter particle"
   ]
  },
  {
   "cell_type": "markdown",
   "id": "caf3d61d",
   "metadata": {},
   "source": [
    "It it is now pretty easy to see how we can do $E^2$. For the $\\lvert \\textbf{p} \\rvert^2$, we use the standard vector length formula (Pythagorean theorem). I'm not sure what to do with `ptN`, which I'm pretty sure is transverse momentum. That's basically a different way of measuring and showing the momentum from $x$ and $y$. (If I recall correctly, it's mostly used for finding particles such as neutrinos.) We can use our Pythagorean Theorem for the norm of the momentum vector using $x,y,z$. So, for each particle, (1,2,3,4), for which we have the components of momentum (we'll designate each particle with $\\text{N} \\in \\{1, 2, 3, 4\\}$)\n",
    "\n",
    "$\\lvert \\textbf{p} \\rvert_{\\text{N}} = \\sqrt{(px\\text{N})^2 + (py\\text{N})^2 + (pz\\text{N})^2}$\n",
    "\n",
    "which we can take with us in even simpler form by noting that we really want $\\lvert \\textbf{p} \\rvert^2$, which is\n",
    "\n",
    "$\\lvert \\textbf{p} \\rvert_{\\text{N}}^2 = (px\\text{N})^2 + (py\\text{N})^2 + (pz\\text{N})^2$\n",
    "\n",
    "We'll do this with our dataframe, and to be a bit simpler (not as busy on the page), we'll do it one particle at a time. For the first try, we'll do it one event at a time as well."
   ]
  },
  {
   "cell_type": "markdown",
   "id": "1b0d4a02",
   "metadata": {},
   "source": [
    "For one particle, in any frame of reference (ignore that any-frame-of-reference part if it confuses you), the invariant mass is given by\n",
    "\n",
    "$m_0 = \\sqrt{E^2 - \\lvert \\textbf{p} \\rvert^2}$\n",
    "\n",
    "or, to make it more clear that we're finding the invariant mass for only one of the four daughter particles\n",
    "\n",
    "$m_{0,\\text{N}} = \\sqrt{E_{\\text{N}}^2 - \\lvert \\textbf{p} \\rvert_{\\text{N}}^2}$\n",
    "\n",
    "We'll check that each of the electrons has the correct (invariant) mass."
   ]
  },
  {
   "cell_type": "markdown",
   "id": "0a736206",
   "metadata": {},
   "source": [
    "#### Invariant mass for each particle\n",
    "\n",
    "We'll use our equation, rewritten as\n",
    "\n",
    "$m_{0,\\text{N}} = \\sqrt{(E\\text{N})^2 - \\left[(px\\text{N})^2 + (py\\text{N})^2 + (pz\\text{N})^2\\right]}$ with $\\text{N} \\in {1, 2, 3, 4}$\n",
    "\n",
    "Note that this will give us four different $m_0$ values, _NOT_ a sum over $\\text{N}$."
   ]
  },
  {
   "cell_type": "code",
   "execution_count": 10,
   "id": "798c5e6a",
   "metadata": {},
   "outputs": [],
   "source": [
    "from math import sqrt\n",
    "import sys\n",
    "\n",
    "def invariant_mass_from_values(energy, px, py, pz, \n",
    "                               do_avoid_imaginary=True,\n",
    "                               do_display_invariant_mass=True,\n",
    "                               do_print_if_p2_gt_e2=True):\n",
    "    '''\n",
    "    :brief: Calculates the invariant mass of a particle\n",
    "    \n",
    "    This method does not deal elegantly nor scalably/portably\n",
    "    with things getting passed in as Series objects.\n",
    "    \n",
    "    :param energy:  The energy of the particle\n",
    "    :param px:      The x-component of the particle's momentum\n",
    "    :param py:      The y-component of the particle's momentum\n",
    "    :param pz:      The z-component of the particle's momentum\n",
    "    \n",
    "    :returns invariant_mass: The invariant mass (rest mass)\n",
    "    '''\n",
    "    \n",
    "    invariant_mass = None\n",
    "    \n",
    "    #  The values come to us from a pandas dataframe. We need\n",
    "    #+ to cast each into just a float. This function might\n",
    "    #+ only work when we have one row. -DWB 2023-03-18\n",
    "    \n",
    "    energy = float(energy)\n",
    "    px = float(px)\n",
    "    py = float(py)\n",
    "    pz = float(pz) \n",
    "                   #  Oh! Hahahahaha! What a bug!\n",
    "                   #+ Seriously?!? This whole time, \n",
    "                   #+ the problem has been `pz = float(py)`\n",
    "                   #+ That tells me I'm a programmer.\n",
    "                   #+ I started this about 2023-03-14,\n",
    "                   #+ and started doing the single e\n",
    "                   #+ stuff around 2023-03-17, and I have\n",
    "                   #+ it now 20230321T172100-0600\n",
    "    \n",
    "    #  For avoiding imaginary numbers, we're going to use the \n",
    "    #+ following, depending on the sign of E^2 - |p|^2.\n",
    "    #+ Remember that the square root of a negative number\n",
    "    #+ is imaginary. The energy of an e+ (positron) can be\n",
    "    #+ viewed as negative, or imaginary in some cases (?)\n",
    "    #+                PLEASE COMMENT ON THIS, PHYSICS STACKEXCHANGE PEOPLE\n",
    "    #+\n",
    "    #+ so, we will have\n",
    "    #+\n",
    "    #+  (+/-) sqrt( (+/-) (E^2 - |p|^2) )\n",
    "    #+    ^           ^\n",
    "    #+    |           \\\n",
    "    #+                 ---------\n",
    "    #+  Calling this            \\\n",
    "    #+ `total_sign_transform`    \\\n",
    "    #+                           |\n",
    "    #+                 Calling this\n",
    "    #+                 `e2_minus_p2_sign_transform`\n",
    "    \n",
    "    e_squared_part = (energy ** 2)\n",
    "    norm_p_squared_part = ((px ** 2) + (py ** 2) + (pz ** 2))\n",
    "    \n",
    "    #  remember that the time-component of the vector-length\n",
    "    #+ formula has a different sign\n",
    "    e2_minus_p2 = e_squared_part - norm_p_squared_part\n",
    "    \n",
    "    total_sign_transform = 1       # plus 1 => no change\n",
    "    e2_minus_p2_sign_transform = 1 # plus 1 => no change\n",
    "    \n",
    "    radicand_is_negative = ( e2_minus_p2 < 0 )\n",
    "    \n",
    "    if radicand_is_negative and do_avoid_imaginary:\n",
    "        if do_print_if_p2_gt_e2:\n",
    "            print(\"NOTE: The radicand had a negative value, \" + \\\n",
    "                  \"so we're adjusting signs.\")\n",
    "        ##endof:  if do_print_if_p2_gt_e2\n",
    "        \n",
    "        total_sign_transform = -1\n",
    "        e2_minus_p2_sign_transform = -1\n",
    "    ##endof:  if radicand_is_negative\n",
    "    \n",
    "    try:\n",
    "        new_radicand = e2_minus_p2_sign_transform * e2_minus_p2\n",
    "        invariant_mass = total_sign_transform * sqrt( new_radicand )\n",
    "        invariant_mass = float(invariant_mass)\n",
    "    except Exception as ve:\n",
    "        invariant_mass = \"NaN\"\n",
    "        print(\"\\nYour E^2 - |p|^2 is negative, so taking\", file=sys.stderr)\n",
    "        print(\"its square root will lead to an imaginary\", file=sys.stderr)\n",
    "        print(\"number. Not very physical (in this case,\", file=sys.stderr)\n",
    "        print(\"unless there's something with antiparticles\", \n",
    "              file=sys.stderr)\n",
    "        print(\"or something giving complex values that\", file=sys.stderr)\n",
    "        print(\"can somehow be used to show the invariant\", file=sys.stderr)\n",
    "        print(\"the mass of the particle. [?]).\\n\", file=sys.stderr)\n",
    "        print(\"The details of the exception are:\", file=sys.stderr)\n",
    "        print(repr(ve), file=sys.stderr)\n",
    "        print(\"\\nNaN will be returned for the invariant mass.\\n\",\n",
    "              file=sys.stderr)\n",
    "        print(\"You might want to look at changing the\", file=sys.stderr)\n",
    "        print(\"do_avoid_imaginary parameter to True in\", file=sys.stderr)\n",
    "        print(\"the invariant_mass_from_values function.\\n\", file=sys.stderr)\n",
    "    finally:\n",
    "        pass\n",
    "    ##endof:  try/catch/finally\n",
    "    \n",
    "    if do_display_invariant_mass:\n",
    "        print(\"invariant_mass: \" + str(invariant_mass))\n",
    "    ##endof:  if do_display_invariant_mass\n",
    "    \n",
    "    return invariant_mass\n",
    "\n",
    "##endof:  def invariant_mass_from_values(<params>)"
   ]
  },
  {
   "cell_type": "code",
   "execution_count": 11,
   "id": "99b7d6c1",
   "metadata": {
    "scrolled": false
   },
   "outputs": [
    {
     "name": "stdout",
     "output_type": "stream",
     "text": [
      "NOTE: The radicand had a negative value, so we're adjusting signs.\n",
      "invariant_mass: -0.02560563219235628\n",
      "        E1      px1     py1      pz1  Invariant_Mass_1\n",
      "0  46.2967 -45.4721 -8.6101 -1.24072         -0.025606\n"
     ]
    }
   ],
   "source": [
    "do_display_first = False #  You can change this depending on the amount\n",
    "                         #+ of output you want.\n",
    "\n",
    "if do_display_first:\n",
    "    print(my_4e2011_df.iloc[1])\n",
    "##endof:  if do_display_first\n",
    "\n",
    "#  archived_ref=\"https://web.archive.org/web/\" + \\\n",
    "#+ \"20230318225210/https://stackoverflow.com/questions/\" + \\\n",
    "#+ \"12021754/how-to-slice-a-pandas-dataframe-by-position\"\n",
    "first_event_df = my_4e2011_df[:1]\n",
    "\n",
    "event_1_particle_1_df = \\\n",
    "  first_event_df.assign(\n",
    "            Invariant_Mass_1 = lambda x: \\\n",
    "               invariant_mass_from_values(x.E1,\n",
    "                                          x.px1,\n",
    "                                          x.py1,\n",
    "                                          x.pz1)\n",
    ") \n",
    "\n",
    "#event_1_particle_1_df.loc[:, ['E1', 'px1', 'py1', 'pz1', 'Invariant_Mass_1']]\n",
    "\n",
    "print(\n",
    "  event_1_particle_1_df.loc[:, ['E1', 'px1', 'py1', 'pz1', 'Invariant_Mass_1']]\n",
    ")"
   ]
  },
  {
   "cell_type": "markdown",
   "id": "ffb8db6d",
   "metadata": {},
   "source": [
    "That's the part that took a while. Until I found my `dz = float(dy)` bug, I kept getting\n",
    "\n",
    "<b><i>&lt;wrong-but-interesting&gt;</i></b>\n",
    "\n",
    "```\n",
    "        E1      px1     py1      pz1  Invariant_Mass_1\n",
    "0  46.2967 -45.4721 -8.6101 -1.24072         -8.520275\n",
    "```\n",
    "\n",
    "which showed our electron invariant mass to be $-8.520275 \\  (\\text{GeV})$. I could have lived with the invariant mass being negative. I thought it might mean something about an anti-particle - an interpretation which didn't hold up to scritiny. I'm pretty sure the error bars aren't that big. I don't know how the invariant masses of the Z-bosons would be close to correct, but those of the electrons wouldn't be correct. The electrons are observed, so they shouldn't be off-mass-shell at all.\n",
    "<br/>\n",
    "<b><i>&lt;/wrong-but-interesting&gt;</i></b>\n",
    "\n",
    "Now, I've got numbers which I _believe_ to be reasonable within the rounding error bars. I need to ask Physics StackExchange if my new values, i.e.\n",
    "\n",
    "```\n",
    "        E1      px1     py1      pz1  Invariant_Mass_1\n",
    "0  46.2967 -45.4721 -8.6101 -1.24072         -0.025606\n",
    "```\n",
    "\n",
    "are reasonable. I _especially_ need to ask about my method of dealing with the negative radicand. Hopefully, I will be enlightened by Physics StackExchange about whether such a value is within acceptable error bars or whether I'm doing something else wrong. By the way, our electron mass should, without any error bars, be $0.0005$. (The invariant masses of the Z-bosons and the Higgs show up in GeV - natural units again - so I would expect that of the electron to do the same.)\n",
    "\n",
    "I should - and will - look at the distribution of electron and muon masses. Since the muon tips the balances at $0.10566 \\  \\text{GeV}$ (natural units), the spread due to error shouldn't wash out the value of the measurement. I'm interested what insights will come from Physics SE, though. I'm also interested whether I will get positive and negative values for masses. _Do we have some seriously fast neutrinos stealing enough momentum to make us go from positive to negative measured values?_ ..."
   ]
  },
  {
   "cell_type": "markdown",
   "id": "6203353e",
   "metadata": {},
   "source": [
    "<hr/>"
   ]
  },
  {
   "cell_type": "markdown",
   "id": "f3d742f2",
   "metadata": {},
   "source": [
    "### All the daughter particles\n",
    "\n",
    "#### Still just from the first event"
   ]
  },
  {
   "cell_type": "code",
   "execution_count": 12,
   "id": "8892d603",
   "metadata": {},
   "outputs": [
    {
     "name": "stdout",
     "output_type": "stream",
     "text": [
      "NOTE: The radicand had a negative value, so we're adjusting signs.\n",
      "invariant_mass: -0.02560563219235628\n",
      "NOTE: The radicand had a negative value, so we're adjusting signs.\n",
      "invariant_mass: -0.046896274917882244\n",
      "invariant_mass: 0.051445116384559425\n",
      "NOTE: The radicand had a negative value, so we're adjusting signs.\n",
      "invariant_mass: -0.007187503254572274\n"
     ]
    }
   ],
   "source": [
    "first_event_df = my_4e2011_df[:1]\n",
    "\n",
    "event_1_particle_1_df = \\\n",
    "  first_event_df.assign(\n",
    "            Invariant_Mass_1 = lambda x: \\\n",
    "               invariant_mass_from_values(x.E1,\n",
    "                                          x.px1,\n",
    "                                          x.py1,\n",
    "                                          x.pz1)\n",
    ") \n",
    "\n",
    "e1p1 = event_1_particle_1_df.loc[:, ['E1', 'px1', 'py1', 'pz1', 'Invariant_Mass_1']]\n",
    "\n",
    "event_1_particle_2_df = \\\n",
    "  first_event_df.assign(\n",
    "            Invariant_Mass_2 = lambda x: \\\n",
    "               invariant_mass_from_values(x.E2,\n",
    "                                          x.px2,\n",
    "                                          x.py2,\n",
    "                                          x.pz2)\n",
    ")\n",
    "\n",
    "e1p2 = event_1_particle_2_df.loc[:, ['E2', 'px2', 'py2', 'pz2', 'Invariant_Mass_2']]\n",
    "\n",
    "event_1_particle_3_df = \\\n",
    "  first_event_df.assign(\n",
    "            Invariant_Mass_3 = lambda x: \\\n",
    "               invariant_mass_from_values(x.E3,\n",
    "                                          x.px3,\n",
    "                                          x.py3,\n",
    "                                          x.pz3)\n",
    ")\n",
    "\n",
    "e1p3 = event_1_particle_3_df.loc[:, ['E3', 'px3', 'py3', 'pz3', 'Invariant_Mass_3']]\n",
    "\n",
    "event_1_particle_4_df = \\\n",
    "  first_event_df.assign(\n",
    "            Invariant_Mass_4 = lambda x: \\\n",
    "               invariant_mass_from_values(x.E4,\n",
    "                                          x.px4,\n",
    "                                          x.py4,\n",
    "                                          x.pz4)\n",
    ")\n",
    "\n",
    "e1p4 = event_1_particle_4_df.loc[:, ['E4', 'px4', 'py4', 'pz4', 'Invariant_Mass_4']]\n",
    "\n",
    "#print(\"As an example: `type(e1p1)`: `\" + str(type(e1p1)) + \\\n",
    "#      \"`\\ngives OUTPUT `<class 'pandas.core.frame.DataFrame'>`\")"
   ]
  },
  {
   "cell_type": "code",
   "execution_count": 13,
   "id": "6ec6a1a7",
   "metadata": {},
   "outputs": [
    {
     "name": "stdout",
     "output_type": "stream",
     "text": [
      "        E1      px1     py1      pz1  Invariant_Mass_1\n",
      "0  46.2967 -45.4721 -8.6101 -1.24072         -0.025606\n",
      "-----\n",
      "        E2      px2      py2       pz2  Invariant_Mass_2\n",
      "0  45.8568  43.5367  14.3708 -0.940301         -0.046896\n",
      "-----\n",
      "        E3      px3      py3      pz3  Invariant_Mass_3\n",
      "0  27.2561 -13.6734 -19.6597  13.0164          0.051445\n",
      "-----\n",
      "        E4       px4      py4      pz4  Invariant_Mass_4\n",
      "0  7.57191 -0.091305  7.28083 -2.07727         -0.007188\n"
     ]
    }
   ],
   "source": [
    "print(e1p1)\n",
    "print(\"-----\")\n",
    "print(e1p2)\n",
    "print(\"-----\")\n",
    "print(e1p3)\n",
    "print(\"-----\")\n",
    "print(e1p4)"
   ]
  },
  {
   "cell_type": "markdown",
   "id": "861bf3c2",
   "metadata": {},
   "source": [
    "To me, those all seem to be reasonably close to the accepted value of $0.0005 \\  (\\text{GeV})$."
   ]
  },
  {
   "cell_type": "markdown",
   "id": "a437824d",
   "metadata": {},
   "source": [
    "On to the sanity check that helped me find my bug."
   ]
  },
  {
   "cell_type": "markdown",
   "id": "36440212",
   "metadata": {},
   "source": [
    "<hr/>"
   ]
  },
  {
   "cell_type": "markdown",
   "id": "b9c74574",
   "metadata": {},
   "source": [
    "### The parent particle"
   ]
  },
  {
   "cell_type": "markdown",
   "id": "89d639e8",
   "metadata": {},
   "source": [
    "The general formula for invariant mass, $m_0$, for one particle in this case, is\n",
    "\n",
    "$m_0 = \\sqrt{E^2 - \\lvert \\textbf{p} \\rvert^2}$\n",
    "\n",
    "In a particle decay, the invariant mass of the the system of particle(s) stays the same - the invariant mass calculated using the energy and momentum of the daughter particles is equal to the invariant mass of the parent particle. However, we can't just find the equivalent mass for the first daughter particle, then the second daughter particle, etc. We need to look at them all together. This is shown in the general formula for the invariant mass of the system of daughter particles, usually notated as $W$, and which is equal to the invariant mass of the parent particle,\n",
    "\n",
    "$W = \\sqrt{ \\left( \\sum{E} \\right)^2 - \\left( \\lvert \\sum{\\textbf{p}} \\rvert \\right)^2}$\n",
    "\n",
    "Note that this, just like the general formula for invariant mass, is in natural units.\n",
    "\n",
    "The way vectors work makes this nice for us. We can write the equation using only the values in our list.\n",
    "\n",
    "$W = \\sqrt{\\left( \\sum_{\\text{N}}{E\\text{N}} \\right)^2 - \\sum_{\\text{N}}{ \\left[ (px\\text{N})^2 + (py\\text{N})^2 + (pz\\text{N})^2 \\right]}}$ with $\\text{N} \\in \\{1, 2, 3, 4\\}$\n",
    "\n",
    "or, even more exhaustively,\n",
    "\n",
    "$W = \\sqrt{(} \\overline{ E1 + E2 + E3 + E4 )^2 - ... }$\n",
    "\n",
    "&nbsp;&nbsp;&nbsp;&nbsp;&nbsp;&nbsp;&nbsp;&nbsp;&nbsp;&nbsp;&nbsp;&nbsp;&nbsp;&nbsp;&nbsp;&nbsp;&nbsp; $\\overline{ ... {[} (px1)^2 + (px2)^2 + (px3)^2 + (px4)^2 + ... }$\n",
    "\n",
    "&nbsp;&nbsp;&nbsp;&nbsp;&nbsp;&nbsp;&nbsp;&nbsp;&nbsp;&nbsp;&nbsp;&nbsp;&nbsp;&nbsp;&nbsp;&nbsp;&nbsp;&nbsp;&nbsp;&nbsp;&nbsp;&nbsp;&nbsp;&nbsp;&nbsp; $\\overline{ ... (py1)^2 + (py2)^2 + (py3)^2 + (py4)^2 + ... }$\n",
    "\n",
    "&nbsp;&nbsp;&nbsp;&nbsp;&nbsp;&nbsp;&nbsp;&nbsp;&nbsp;&nbsp;&nbsp;&nbsp;&nbsp;&nbsp;&nbsp;&nbsp;&nbsp;&nbsp;&nbsp;&nbsp;&nbsp;&nbsp;&nbsp;&nbsp;&nbsp;&nbsp;&nbsp;&nbsp;&nbsp;&nbsp;&nbsp;&nbsp;&nbsp; $\\overline{ ... (pz1)^2 + (pz2)^2 + (pz3)^2 + (pz4)^2 ] }$ "
   ]
  },
  {
   "cell_type": "code",
   "execution_count": 14,
   "id": "82847ff9",
   "metadata": {},
   "outputs": [
    {
     "name": "stdout",
     "output_type": "stream",
     "text": [
      "          M           W\n",
      "0  125.5280  125.528108\n",
      "1  285.9600  285.960010\n",
      "2  186.9150  186.915162\n",
      "3  100.9230  100.922540\n",
      "4   95.4259   95.425992\n",
      "5  138.1930  138.193081\n",
      "6  363.5380  363.537956\n"
     ]
    }
   ],
   "source": [
    "import pprint\n",
    "\n",
    "#  Let's start by assuming that our E^2 part will be\n",
    "#+ larger than our |p|^2 part\n",
    "#+ ... the assumption seems borne out.\n",
    "\n",
    "checking_system_invariant_masses_df = \\\n",
    "  my_4e2011_df.assign(\n",
    "      W = lambda ev: (\n",
    "        ( ( (ev.E1 + ev.E2 + ev.E3 + ev.E4) ** 2) -\n",
    "          ( (ev.px1 + ev.px2 + ev.px3 + ev.px4) ** 2 +\n",
    "            (ev.py1 + ev.py2 + ev.py3 + ev.py4) ** 2 +\n",
    "            (ev.pz1 + ev.pz2 + ev.pz3 + ev.pz4) ** 2  )\n",
    "        ) ** 0.5 \n",
    "   )\n",
    ")\n",
    "\n",
    "events_inv_masses = checking_system_invariant_masses_df.loc[:, ['M', 'W']]\n",
    "\n",
    "pprint.pprint(events_inv_masses)"
   ]
  },
  {
   "cell_type": "markdown",
   "id": "e32b8bf8",
   "metadata": {},
   "source": [
    "Woo hoo! Those are all definitely within a very reasonable rounding error margin. The parent particles aren't all Higgs bosons, you'll note, since such would have a mass around $126 \\  (\\text{GeV})$."
   ]
  },
  {
   "cell_type": "markdown",
   "id": "b8fe789a",
   "metadata": {},
   "source": [
    "<hr/>"
   ]
  },
  {
   "cell_type": "markdown",
   "id": "94d44c6a",
   "metadata": {},
   "source": [
    "I'll check one more thing. I'll send the values through my function. My function was made for values, though, so I'm going to have to deal with it. I'm not sure how to do so given the fact that `Series` objects get passed to my function. I think it has to do with the fact that I'm sending different column values into my lambda-ed function, rather than just all the values. [This](https://stackoverflow.com/a/55190150/6505499) ([archived](https://web.archive.org/web/20230321215636/https://stackoverflow.com/questions/20829748/pandas-assigning-multiple-new-columns-simultaneously)) or [that](https://stackoverflow.com/a/43668425/6505499) ([archived](https://web.archive.org/web/20230321220603/https://stackoverflow.com/questions/43667934/add-multiple-calculated-columns-to-a-pandas-dataframe-at-once)) might hold some answers."
   ]
  },
  {
   "cell_type": "code",
   "execution_count": 15,
   "id": "71f2b44f",
   "metadata": {},
   "outputs": [],
   "source": [
    "do_this_method_and_see_errors = False\n",
    "if do_this_method_and_see_errors:\n",
    "    check_system_invariant_masses_func_df = \\\n",
    "    my_4e2011_df.assign(\n",
    "          W = lambda ev:\n",
    "              ( invariant_mass_from_values(\n",
    "                  energy=(ev.E1 + ev.E2 + ev.E3 + ev.E4),\n",
    "                  px=(ev.px1 + ev.px2 + ev.px3 + ev.px4),\n",
    "                  py=(ev.py1 + ev.py2 + ev.py3 + ev.py4),\n",
    "                  pz=(ev.pz1 + ev.pz2 + ev.pz3 + ev.pz4))\n",
    "              ), axis=1\n",
    "    )##endof:  my_4e2011_df.assign\n",
    "    \n",
    "    events_inv_masses_func = \\\n",
    "      check_system_invariant_masses_func_df.loc[:, ['M', 'W']]\n",
    "\n",
    "    print(\"RESULTS\")\n",
    "    print(events_inv_masses_func)\n",
    "##endof:  if do_this_method_and_see_errors"
   ]
  },
  {
   "cell_type": "markdown",
   "id": "15f98480",
   "metadata": {},
   "source": [
    "The only way I can think of to pass the values to my function is to iterate over the rows. That could cause a firestorm, such as the one seen [here](https://web.archive.org/web/20230321202813/https://stackoverflow.com/questions/16476924/how-to-iterate-over-rows-in-a-dataframe-in-pandas). I do want to look deeper into Pandas to figure that out, but that's not what I'm trying to figure out, now."
   ]
  },
  {
   "cell_type": "code",
   "execution_count": 16,
   "id": "0da20af9",
   "metadata": {},
   "outputs": [
    {
     "name": "stdout",
     "output_type": "stream",
     "text": [
      "M_from_CSV     W_calculated             M_minus_W\n",
      "-----------    -------------------      ------------------------\n",
      "125.528        125.5281081819699        -0.00010818196989248463\n",
      "285.96         285.9600098946488        -9.894648826502817e-06\n",
      "186.915        186.91516209218858       -0.0001620921885887583\n",
      "100.923        100.92253997505915       0.0004600249408497348\n",
      "95.4259        95.42599174812715        -9.174812714718428e-05\n",
      "138.193        138.19308075717925       -8.07571792336148e-05\n",
      "363.538        363.5379557201744        4.4279825601734046e-05\n"
     ]
    }
   ],
   "source": [
    "ms_and_ws = [['M_from_CSV', 'W_calculated', 'M_minus_W'],\n",
    "             ['-----------',\n",
    "              '-------------------',\n",
    "              '------------------------']]\n",
    "\n",
    "for index, row in my_4e2011_df.iterrows():\n",
    "    total_E  = row.E1  + row.E2  + row.E3  + row.E4\n",
    "    total_px = row.px1 + row.px2 + row.px3 + row.px4\n",
    "    total_py = row.py1 + row.py2 + row.py3 + row.py4\n",
    "    total_pz = row.pz1 + row.pz2 + row.pz3 + row.pz4\n",
    "    \n",
    "    my_W = invariant_mass_from_values(total_E, \n",
    "                                      total_px, \n",
    "                                      total_py, \n",
    "                                      total_pz,\n",
    "                                      do_display_invariant_mass=False)\n",
    "    my_M = row.M\n",
    "    \n",
    "    #print(str(my_M), str(my_W), str(my_M-my_W))\n",
    "    ms_and_ws.append([my_M, my_W, my_M-my_W])\n",
    "##endof:  for\n",
    "\n",
    "inner_index_m = 0\n",
    "output_space_m = 15\n",
    "inner_index_w = 1\n",
    "output_space_w = 25\n",
    "inner_index_m_minus_w = 2\n",
    "\n",
    "for inner_table in ms_and_ws:\n",
    "    print( str(inner_table[inner_index_m]).ljust(output_space_m) + \\\n",
    "           str(inner_table[inner_index_w]).ljust(output_space_w) + \\\n",
    "           str(inner_table[inner_index_m_minus_w]) )"
   ]
  },
  {
   "cell_type": "markdown",
   "id": "258bf015",
   "metadata": {},
   "source": [
    "## Putting All Data In"
   ]
  },
  {
   "cell_type": "markdown",
   "id": "1c687f4c",
   "metadata": {},
   "source": [
    "Now, we can loop through all the CSVs and do the analysis that one usually does with this data. We'll need the URL list. Hopefully, it's loaded from before. Just in case, though, here it is again."
   ]
  },
  {
   "cell_type": "code",
   "execution_count": 17,
   "id": "270989e9",
   "metadata": {},
   "outputs": [],
   "source": [
    "data_csv_urls = []\n",
    "\n",
    "# 4 electrons as daughter particles (two years' data)\n",
    "url_4e_2011 = 'http://opendata.cern.ch/record/5200/files/4e_2011.csv'\n",
    "data_csv_urls.append(url_4e_2011)\n",
    "url_4e_2012 = 'http://opendata.cern.ch/record/5200/files/4e_2012.csv'\n",
    "data_csv_urls.append(url_4e_2012)\n",
    "\n",
    "# 4 muons as daughter particles (two years' data)\n",
    "url_4mu_2011 = 'http://opendata.cern.ch/record/5200/files/4mu_2011.csv'\n",
    "data_csv_urls.append(url_4mu_2011)\n",
    "url_4mu_2012 = 'http://opendata.cern.ch/record/5200/files/4mu_2012.csv'\n",
    "data_csv_urls.append(url_4mu_2012)\n",
    "\n",
    "# 2 electrons and 2 muons as daughter particles (two years' data)\n",
    "url_2e2mu_2011 = 'http://opendata.cern.ch/record/5200/files/2e2mu_2011.csv'\n",
    "data_csv_urls.append(url_2e2mu_2011)\n",
    "url_2e2mu_2012 = 'http://opendata.cern.ch/record/5200/files/2e2mu_2012.csv'\n",
    "data_csv_urls.append(url_2e2mu_2012)"
   ]
  },
  {
   "cell_type": "markdown",
   "id": "e1c68cc5",
   "metadata": {},
   "source": [
    "We will also repeat some imports and `pandas` settings, since it's been a while."
   ]
  },
  {
   "cell_type": "code",
   "execution_count": 18,
   "id": "62471019",
   "metadata": {},
   "outputs": [],
   "source": [
    "pd.options.display.max_columns = 50"
   ]
  },
  {
   "cell_type": "code",
   "execution_count": 19,
   "id": "7972d3b2",
   "metadata": {},
   "outputs": [],
   "source": [
    "import requests\n",
    "import shutil\n",
    "from pathlib import Path\n",
    "\n",
    "data_csv_fnames = []\n",
    "\n",
    "for this_url in data_csv_urls:\n",
    "    #local_filename = this_url.split('/')[-1] #  Not a general solution \n",
    "    #                                         #+ (that would require HTML\n",
    "    #                                         #+ headers), but okay for\n",
    "    #                                         #+ our known urls.\n",
    "\n",
    "    my_url = this_url\n",
    "    local_filename = my_url.split('/')[-1]\n",
    "    data_csv_fnames.append(local_filename)\n",
    "    \n",
    "    with requests.get(my_url, stream=True) as r:\n",
    "        r.raise_for_status()\n",
    "        with open(local_filename, 'wb') as f:\n",
    "            shutil.copyfileobj(r.raw, f)\n",
    "        ##endof:  with open ... as f\n",
    "    ##endof:  with requests ... as r\n",
    "    \n",
    "    our_file = Path(local_filename)\n",
    "    we_have_this_file = ( our_file.is_file() )\n",
    "\n",
    "    assert(we_have_this_file)\n",
    "##endof:  for this_url in data_csv_urls"
   ]
  },
  {
   "cell_type": "markdown",
   "id": "f6130210",
   "metadata": {},
   "source": [
    "No `AssertionError` output as a result of executing the last code will mean we have all our files."
   ]
  },
  {
   "cell_type": "code",
   "execution_count": 20,
   "id": "d0e32ea0",
   "metadata": {},
   "outputs": [
    {
     "name": "stdout",
     "output_type": "stream",
     "text": [
      "      Run      Event  PID1        E1      px1       py1        pz1      pt1  \\\n",
      "0  167675  876658967   -11   46.2967 -45.4721  -8.61010   -1.24072  46.2801   \n",
      "1  173243   16706390    11  352.0970 -58.3284  -8.93069  347.11700  59.0081   \n",
      "2  171106  141954801    11   49.6757  -8.9885  44.24350  -20.72180  45.1473   \n",
      "3  163758  113529826   -11  112.0390 -19.2226  25.67490  107.35000  32.0735   \n",
      "4  172952  842265702   -11   87.6280  41.7576  11.55910  -76.16670  43.3279   \n",
      "\n",
      "       eta1      phi1  Q1  PID2        E2       px2        py2         pz2  \\\n",
      "0 -0.026806 -2.954460   1    11   45.8568  43.53670  14.370800   -0.940301   \n",
      "1  2.472280 -2.989660  -1   -11  124.2200  55.88820  -7.347430  110.694000   \n",
      "2 -0.444228  1.771230  -1    11   68.4708  41.22040  -0.639024  -54.669200   \n",
      "3  1.922810  2.213460   1    11   26.6863   6.94914 -23.053800   11.506000   \n",
      "4 -1.329820  0.270053   1    11   37.9247 -20.51050  24.684600  -20.205800   \n",
      "\n",
      "       pt2      eta2      phi2  Q2  PID3        E3        px3       py3  \\\n",
      "0  45.8472 -0.020508  0.318824  -1   -11   27.2561 -13.673400 -19.65970   \n",
      "1  56.3691  1.427300 -0.130717   1   -11  169.3830  23.004300  33.20870   \n",
      "2  41.2253 -1.094270 -0.015501  -1   -11   42.6373  -0.600474 -39.76270   \n",
      "3  24.0784  0.461317 -1.278030  -1   -11   10.1663   2.352000  -9.35977   \n",
      "4  32.0938 -0.594030  2.264100  -1   -11   11.3639  -6.933620   6.40937   \n",
      "\n",
      "         pz3       pt3      eta3      phi3  Q3  PID4        E4        px4  \\\n",
      "0   13.01640  23.94720  0.519816 -2.178500   1    11   7.57191  -0.091305   \n",
      "1  164.49500  40.39820  2.111990  0.964974   1    11  28.82550   7.339310   \n",
      "2   15.37870  39.76730  0.377676 -1.585900   1   -11  36.52990 -36.407800   \n",
      "3   -3.19643   9.65076 -0.325435 -1.324610   1    11  12.23760   3.981140   \n",
      "4   -6.32315   9.44220 -0.627642  2.395460   1    11  26.68220  -0.119199   \n",
      "\n",
      "         py4       pz4       pt4      eta4      phi4  Q4      mZ1      mZ2  \\\n",
      "0   7.280830  -2.07727   7.28140 -0.281549  1.583340  -1  91.9271  27.3974   \n",
      "1 -25.118200 -12.08810  26.16850 -0.446908 -1.286520  -1  91.4178  92.9952   \n",
      "2   0.928434  -2.83553  36.41960 -0.077779  3.116100   1  91.5484  87.7217   \n",
      "3   6.144260   9.80604   7.32130  1.102240  0.995867  -1  70.4304  20.1941   \n",
      "4  -9.074940 -25.09120   9.07572 -1.741270 -1.583930  -1  68.6352  20.0945   \n",
      "\n",
      "          M  \n",
      "0  125.5280  \n",
      "1  285.9600  \n",
      "2  186.9150  \n",
      "3  100.9230  \n",
      "4   95.4259  \n"
     ]
    }
   ],
   "source": [
    "# Let's get these six CSVs into one pandas dataframe\n",
    "\n",
    "csvs = []\n",
    "for my_local_file in data_csv_fnames:\n",
    "    csvs.append(pd.read_csv(my_local_file))\n",
    "##endof:  for my_local_file in data_csv_fnames\n",
    "\n",
    "do_look_at_reindex = False\n",
    "\n",
    "\n",
    "if do_look_at_reindex:\n",
    "    fourlep_first_df = pd.concat(csvs)\n",
    "##endof:  if\n",
    "fourlep_df = pd.concat(csvs, ignore_index=True)\n",
    "  #  If I've learned this right, not using `ignore index` would mess\n",
    "  #+ up the numbers in the left-most, index column. Checked => True\n",
    "\n",
    "pd.options.display.max_columns = 50\n",
    "\n",
    "if do_look_at_reindex:\n",
    "    print(\"<PROBABLY-WRONG>\")\n",
    "    print(fourlep_first_df.head(10))\n",
    "    print(fourlep_df.head(10)) #  This line not wrong, \n",
    "                               #+ just here for comparison.\n",
    "    print(\"</PROBABLY-WRONG>\")\n",
    "##endof:  if\n",
    "    \n",
    "print(fourlep_df.head())"
   ]
  },
  {
   "cell_type": "markdown",
   "id": "53c8124a",
   "metadata": {},
   "source": [
    "### The setup for the discovery (or at least its visualization)\n",
    "\n",
    "Now, we pick some ranges that put us in a place where there is more signal as compared to noise for the four-lepton decay. We will also put in an expectation of what the Higgs signal would be if it happened to be about $125 \\  \\text{GeV}$ (in natural units)."
   ]
  },
  {
   "cell_type": "markdown",
   "id": "9ac2e697",
   "metadata": {},
   "source": [
    "First, though, I want to see about how many events we have - or at least a number very close to the number of events ... it's similar to the line count we did earlier, but for all the data a.k.a. all the CSV files."
   ]
  },
  {
   "cell_type": "code",
   "execution_count": 21,
   "id": "ebbbf1db",
   "metadata": {},
   "outputs": [
    {
     "name": "stdout",
     "output_type": "stream",
     "text": [
      "278\n"
     ]
    }
   ],
   "source": [
    "#  this_ref=\"https://stackoverflow.com/a/15943975/6505499\"\n",
    "#+ this_archived_ref=\"https://web.archive.org/web/20230404233813/\" + \\\n",
    "#+ \"https://stackoverflow.com/questions/15943769/\" + \\\n",
    "#+ \"how-do-i-get-the-row-count-of-a-pandas-dataframe\"\n",
    "\n",
    "print(fourlep_df.shape[0])"
   ]
  },
  {
   "cell_type": "code",
   "execution_count": 22,
   "id": "f0905375",
   "metadata": {},
   "outputs": [
    {
     "name": "stdout",
     "output_type": "stream",
     "text": [
      "                 Run         Event           M\n",
      "count     278.000000  2.780000e+02  278.000000\n",
      "mean   194720.043165  5.261819e+08  212.810654\n",
      "std     10544.584008  4.529675e+08  110.693755\n",
      "min    163237.000000  3.634214e+06   79.385800\n",
      "25%    195102.500000  1.681463e+08  136.906000\n",
      "50%    198955.000000  3.959617e+08  198.815500\n",
      "75%    201174.000000  7.940557e+08  246.274750\n",
      "max    203002.000000  2.722114e+09  742.146000\n"
     ]
    }
   ],
   "source": [
    "#  that_ref=\"https://stackoverflow.com/a/50274029/6505499\"\n",
    "#+ that_archived_ref=\"https://web.archive.org/web/20230404233407/\" + \\\n",
    "#+ \"https://stackoverflow.com/questions/50165953/\" + \\\n",
    "#+ \"python-dataframes-describing-a-single-column\"\n",
    "print(fourlep_df[['Run', 'Event', 'M']].describe())"
   ]
  },
  {
   "cell_type": "markdown",
   "id": "12f9d136",
   "metadata": {},
   "source": [
    "So $278$ events.\n",
    "\n",
    "And yeah, I realize that only the descriptions for `'M'` really tell you anything, but the others help me know that I don't have any `NaN`s or anything in there.\n",
    "\n",
    "I'll also note that, in the code that follows, the range we are setting up is a range of reconstructed masses, i.e. the mass of the parent particle.\n",
    "\n",
    "#### Entering in the measured data\n",
    "\n",
    "(for ingestion by matplotlib and numpy and all that)"
   ]
  },
  {
   "cell_type": "code",
   "execution_count": 24,
   "id": "826bce8b",
   "metadata": {},
   "outputs": [
    {
     "name": "stdout",
     "output_type": "stream",
     "text": [
      "## For kicks and giggles ##\n",
      "binwidth: 3.0 GeV/c^2\n",
      "centers: 71.5, 74.5, 77.5, ..., 179.5  # (all in GeV/c^2)\n",
      "# Note that bin-center values will also include\n",
      " ..., 122.5, 125.5, 128.5, ...\n"
     ]
    }
   ],
   "source": [
    "#  Set our range of reconstructed mass values ..\n",
    "rmin = 70\n",
    "rmax = 181\n",
    "#+ ... and our number of histogram bins so as to be \n",
    "#+ interesting and useful\n",
    "nbins = 37\n",
    "\n",
    "#  Here comes what we call a (reconstructed) mass spectrum \n",
    "#+ or (reconstructedc) mass histogram. \n",
    "#+ We're just looking at all the values of 'M'.\n",
    "# (For physics people, I'll tell you that it feels somewhat \n",
    "#+ strange to be doing this while not using the ROOT package.)\n",
    "\n",
    "M_hist = np.histogram(fourlep_df['M'], bins=nbins, range=(rmin, rmax))\n",
    "\n",
    "#  Pulling out values that will help make the display nice.\n",
    "hist, bins = M_hist\n",
    "binwidth = 1.0*(bins[1] - bins[0])\n",
    "center = (bins[:-1] + bins[1:]) / 2\n",
    "\n",
    "print(\"## For kicks and giggles ##\")\n",
    "print(\"binwidth: \" + str(binwidth) + \" GeV/c^2\")\n",
    "print(\"centers: \" + \\\n",
    "      str(center[0:3])\n",
    "        .replace(r\"[\", '')\n",
    "          .replace(r\"]\", '')\n",
    "            .replace(\" \", \", \") + \\\n",
    "      \", ..., \" + str(center[-1]) + \"  # (all in GeV/c^2)\")\n",
    "print(\"# Note that bin-center values will also include\\n \" + \\\n",
    "      \"..., 122.5, 125.5, 128.5, ...\")"
   ]
  },
  {
   "cell_type": "markdown",
   "id": "88025e34",
   "metadata": {},
   "source": [
    "#### Setting up the theory plot\n",
    "\n",
    "I'll quote from [the guide](https://opendata-education.github.io/en_Workshops/exercises/Hunting-the-Higgs-4leptons.html) I'm following ([archived as I'm typing this](https://web.archive.org/web/20230316000855/https://opendata-education.github.io/en_Workshops/exercises/Hunting-the-Higgs-4leptons.html)).\n",
    "\n",
    "> Let us look at some simulations from other processes there. Here are some [Monte Carlo](https://en.wikipedia.org/wiki/Monte_Carlo_method) -simulated values for such events that have already been weighted by luminosity, cross-section, and number of events. Basically, we create a set of values that have some randomness in them, just like a real measurement would have, but which follows the distribution that has been observed in those processes.\n",
    "\n",
    "(Here's the [archived-as-I'm-typing source](https://web.archive.org/web/20230404214630/https://en.wikipedia.org/wiki/Monte_Carlo_method) for the Wikipedia-article link they gave for the 'Monte Carlo' text.)"
   ]
  },
  {
   "cell_type": "markdown",
   "id": "fefa188b",
   "metadata": {},
   "source": [
    "##### What's really going on here\n",
    "\n",
    "###### As described by someone who did some masters-and-plus level research\n",
    "\n",
    "###### In a similar experiment\n",
    "\n",
    "###### (Ten-and-plus years ago)\n",
    "\n",
    "Okay, remember how I looked at the file size (well, number of lines) for one part of the data and there were only nine lines? That means we only have a certain number of events (collisions we've tracked that have four $\\ell$eptons as daughter particles). What we want to do now is to make a plot showing what we would expect to happen with the collisions we're doing with all physics we know except the Higgs mechanism. However, we want to see it with the same amount of events as we have from our actual data. We'll have a bar-plot histogram with nice colors representing events from specific physics processes that we know that give us 4 $\\ell$eptons. The randomness comes in the exact events we actually get.\n",
    "\n",
    "To restate things: We use simulations of collisions that follow rules for processes we know really well. These don't include the thing we're looking for - in this case, the Higgs `->` 2 Z-bosons `->` 4 $\\ell$eptons. We simulate a kind of collision event going through the detector. (I used a `C++` library called `PHPythia`, and I'm guessing the CMS people used some version of `Pythia` for the simulations, which basically drive the particles through time using Feynman diagrams up to a certain order for probabilities of decay type, etc....). <strike>The four steps of a Monte Carlo simulation (according to the previously cited Wikipedia article) are.</strike>\n",
    "\n",
    "I think a better description of why we insert in the random(ly selected according to rules) data comes from the previously-cited Wikipedia article on Monte Carlo methods. It gives the history of the method. This includes Stanislaw Ulam's inspiration for the idea of inserting randomly generated data (which randomness is) subject to known rules. You don't need to know a ton about neutron diffusion, you just need to know that they couldn't solve the problem using conventional mathematics."
   ]
  },
  {
   "cell_type": "markdown",
   "id": "c990bd95",
   "metadata": {},
   "source": [
    ">Despite having most of the necessary data, such as the average distance a neutron would travel in a substance before it collided with an atomic nucleus and how much energy the neutron was likely to give off following a collision, the Los Alamos physicists were unable to solve the problem using conventional, deterministic mathematical methods. Ulam proposed using random experiments. He recounts his inspiration as follows:\n",
    "\n",
    "> > The first thoughts and attempts I made to practice \\[the Monte Carlo Method\\] were suggested by a question which occurred to me in 1946 as I was convalescing from an illness and playing solitaires. The question was what are the chances that a Canfield solitaire laid out with 52 cards will come out successfully? After spending a lot of time trying to estimate them by pure combinatorial calculations, I wondered whether a more practical method than \"abstract thinking\" might not be to lay it out say one hundred times and simply observe and count the number of successful plays. This was already possible to envisage with the beginning of the new era of fast computers, and I immediately thought of problems of neutron diffusion and other questions of mathematical physics, and more generally how to change processes described by certain differential equations into an equivalent form interpretable as a succession of random operations. Later \\[in 1946\\], I described the idea to John von Neumann, and we began to plan actual calculations.\n",
    "\n",
    "It wasn't very practical to just go set off a bunch of \"devices\" and make observations, but solve-the-equation mathematical methods wouldn't work. The disciplined randomness actually solves the problems!"
   ]
  },
  {
   "cell_type": "code",
   "execution_count": 25,
   "id": "30ad9d00",
   "metadata": {},
   "outputs": [],
   "source": [
    "#  Drell-Yan process - basically, roaming quarks/antiquarks from \n",
    "#+ different hadrons annihilate and form a Z or a virtual photon.\n",
    "#+ It's a noise event.\n",
    "dy = np.array([0,0,0,0,0,0.354797,0.177398,2.60481,\n",
    "               0,0,0,0,0,0,0,0,0,\n",
    "               0.177398,0.177398,0,0.177398,\n",
    "               0,0,0,0,0,0,0,0,0,0,0,\n",
    "               0.177398,0,0,0,0])\n",
    "\n",
    "#  `ttbar` stands for top quark, anti-top quark event simulation\n",
    "#+ It's a noise event.\n",
    "ttbar = np.array([0.00465086,0,0.00465086,0,0,0,0,0,0,0,\n",
    "                  0.00465086,0,0,0,0,0,0.00465086,0,0,0,0,\n",
    "                  0.00465086,0.00465086,0,0,0.0139526,0,0,\n",
    "                  0.00465086,0,0,0,\n",
    "                  0.00465086,0.00465086,0.0139526,0,0])\n",
    "\n",
    "#  `zz` stands for two Z-boson event simulation, where the two\n",
    "#+ Zs don't come from a Higgs in the simulation\n",
    "#+ It's a noise event.\n",
    "zz = np.array([0.181215,0.257161,0.44846,0.830071,1.80272,\n",
    "               4.57354,13.9677,14.0178,4.10974,1.58934,\n",
    "               0.989974,0.839775,0.887188,0.967021,1.07882,\n",
    "               1.27942,1.36681,1.4333,1.45141,1.41572,1.51464,\n",
    "               1.45026,1.47328,1.42899,1.38757,1.33561,1.3075,\n",
    "               1.29831,1.31402,1.30672,1.36442,1.39256,\n",
    "               1.43472,1.58321,1.85313,2.19304,2.95083])\n",
    "\n",
    "#  `hzz` stands for Higgs to two Z-boson event simulation.\n",
    "#+ It's a signal event\n",
    "#+ It's actually the predicted values based on a 125 GeV Higgs.\n",
    "hzz = np.array([0.00340992,0.00450225,0.00808944,0.0080008,\n",
    "                0.00801578,0.0108945,0.00794274,0.00950757,\n",
    "                0.0130648,0.0163568,0.0233832,0.0334813,\n",
    "                0.0427229,0.0738129,0.13282,0.256384,0.648352,\n",
    "                2.38742,4.87193,0.944299,0.155005,0.0374193,\n",
    "                0.0138906,0.00630364,0.00419265,0.00358719,\n",
    "                0.00122527,0.000885718,0.000590479,\n",
    "                0.000885718,0.000797085,8.86337e-05,\n",
    "                0.000501845,8.86337e-05,0.000546162,\n",
    "                4.43168e-05,8.86337e-05])\n",
    "\n",
    "#  A good reference on background processes can be found at\n",
    "#+ qcd_bgd_ref=\"https://agenda.irmp.ucl.ac.be/event/538/contributions/\" + \\\n",
    "#+             \"2924/attachments/1535/1748/barrett_Top2010.pdf\"\n",
    "#+ qcd_bgd_ref_archived=''; # I saved it in this repo."
   ]
  },
  {
   "cell_type": "markdown",
   "id": "c58f7dd2",
   "metadata": {},
   "source": [
    "Now, as I follow the guide, I see that they've described a lot of the stuff I just explained - and clarified it a bunch, too. Let's somewhat-more-closely follow them."
   ]
  },
  {
   "cell_type": "code",
   "execution_count": 26,
   "id": "e9e143d5",
   "metadata": {
    "scrolled": true
   },
   "outputs": [
    {
     "data": {
      "image/png": "[encoded data removed]",
      "text/plain": [
       "<Figure size 1500x300 with 1 Axes>"
      ]
     },
     "metadata": {},
     "output_type": "display_data"
    }
   ],
   "source": [
    "#  ZZ, a pair of heavier - and probably Z - bosons.\n",
    "#+ I'm guessing they filtered on neutral particles, so\n",
    "#+ you wouldn't get W bosons.\n",
    "\n",
    "plt.figure(figsize = (15, 3))\n",
    "plt.bar(center, zz, \n",
    "        align='center', width=binwidth, color='b', \n",
    "        linewidth=0, edgecolor='black', alpha=0.5)\n",
    "\n",
    "plt.xlabel('4$\\ell$ invariant mass from $zz$ (GeV)', fontsize=15)\n",
    "plt.ylabel('Events / 3 GeV\\n', fontsize=15)\n",
    "plt.xlim(rmin, rmax)\n",
    "\n",
    "#  One of the most useful references I found way back\n",
    "#+ when I started _really_ using SO.\n",
    "#+ the_ref=\"https://stackoverflow.com/a/21884187/6505499\"\n",
    "#+ the_ref_archived=\"https://web.archive.org/web/20221225103433/\" + \\\n",
    "#+ \"http://stackoverflow.com/questions/21875356/\" + \\\n",
    "#+ \"saving-a-figure-after-invoking-pyplot-show-results-in-an-empty-file\"\n",
    "\n",
    "plt.savefig(\"mass_spectrum_zz.png\", bbox_inches='tight')\n",
    "\n",
    "plt.show()\n",
    "\n",
    "plt.close()"
   ]
  },
  {
   "cell_type": "code",
   "execution_count": 27,
   "id": "ccf5908a",
   "metadata": {},
   "outputs": [
    {
     "data": {
      "image/png": "[encoded data removed]",
      "text/plain": [
       "<Figure size 1500x300 with 1 Axes>"
      ]
     },
     "metadata": {},
     "output_type": "display_data"
    }
   ],
   "source": [
    "#  Our guide tells us\n",
    "#+ \"DY, some irreducible background from singular Z bosons.\"\n",
    "#+ which is a good part of the truth, but you know more ...\n",
    "#+ Drell-Yan. Virtual photons as well as Zs.\n",
    "\n",
    "plt.figure(figsize=(15, 3))\n",
    "plt.bar(center, dy,\n",
    "        align='center', width=binwidth, color='g',\n",
    "        linewidth=0, edgecolor='black', alpha=0.5)\n",
    "\n",
    "plt.xlabel('4$\\ell$ invariant mass from DY (GeV)', fontsize=15)\n",
    "plt.ylabel('Events / 3 GeV\\n', fontsize=15)\n",
    "plt.xlim(rmin, rmax)\n",
    "\n",
    "plt.savefig(\"mass_spectrum_dy.png\", bbox_inches='tight')\n",
    "\n",
    "plt.show()\n",
    "\n",
    "plt.close()"
   ]
  },
  {
   "cell_type": "code",
   "execution_count": 28,
   "id": "fbda25f5",
   "metadata": {},
   "outputs": [
    {
     "data": {
      "image/png": "[encoded data removed]",
      "text/plain": [
       "<Figure size 1500x300 with 1 Axes>"
      ]
     },
     "metadata": {},
     "output_type": "display_data"
    }
   ],
   "source": [
    "#  ttbar, a pair of top and anti-top quarks,\n",
    "#+ which also decays into 4 leptons\n",
    "\n",
    "plt.figure(figsize=(15, 3))\n",
    "plt.bar(center, ttbar,\n",
    "        align='center', width=binwidth, color='gray',\n",
    "        linewidth=0, edgecolor='black', alpha=0.5)\n",
    "\n",
    "plt.xlabel(r'4$\\ell$ invariant mass from $t\\bar{t}$ (GeV)', fontsize=15)\n",
    "  #  raw string, because we don't want the LaTeX `\\bar` getting\n",
    "  #+ misinterpreted as a backspace ( '\\b' ) then 'ar'\n",
    "plt.ylabel('Events / 3 GeV\\n', fontsize=15)\n",
    "plt.xlim(rmin, rmax)\n",
    "\n",
    "plt.savefig(\"mass_spectrum_ttbar.png\", bbox_inches='tight')\n",
    "\n",
    "plt.show()\n",
    "\n",
    "plt.close()"
   ]
  },
  {
   "cell_type": "markdown",
   "id": "863619b1",
   "metadata": {},
   "source": [
    "After I pick up little one from GParents and probably do a bunch of other stuff that will fill up today, I can come back, stack up those histograms, note that Z-bosons exist at about 90 GeV, say that the plot will be what we'd expect with no new (Higgs) physics, see what the Higgs would look like if it were about 125 GeV, show the theory and experiment matching up, and show that we've rediscovered the Higgs! Hooray! - bballdave025, 20230404T185100-0600"
   ]
  },
  {
   "cell_type": "markdown",
   "id": "df864ed5",
   "metadata": {},
   "source": [
    "<hr/>\n",
    "\n",
    "### Putting it all together - stacking it all up; well, all except the Higgs for now\n",
    "\n",
    "We're going to stack the histograms of the background events - things that we know should happen with 4 $\\ell$eptons but which don't include Higgs processes. It's as if each of our previous histograms were made up of colored blocks on a specific number, and now we just stack up the different colors together according to the number they came from. Let's go!"
   ]
  },
  {
   "cell_type": "code",
   "execution_count": 29,
   "id": "ea93aa38",
   "metadata": {},
   "outputs": [
    {
     "data": {
      "image/png": "[encoded data removed]",
      "text/plain": [
       "<Figure size 1500x500 with 1 Axes>"
      ]
     },
     "metadata": {},
     "output_type": "display_data"
    }
   ],
   "source": [
    "plt.figure(figsize=(15, 5))\n",
    "\n",
    "#  ttbar\n",
    "ttbar_barplot = plt.bar(center, ttbar,\n",
    "                        align='center', width=binwidth, color='gray',\n",
    "                        linewidth=0, edgecolor='b', alpha=0.5,\n",
    "                        label=r'$t\\bar{t} \\rightarrow 4\\ell$')\n",
    "\n",
    "#  DY, Drell-Yan, which we indicate with the possibilities of\n",
    "#+ the wandering-then-colliding quark-antiquark's daughters:\n",
    "#+ Z-boson/virtual-photon and something-else, i.e. 'Z/gamma* + X'\n",
    "dy_barplot = plt.bar(center, dy,\n",
    "                     align='center', width=binwidth, color='g',\n",
    "                     linewidth=0, edgecolor='b', alpha=0.5,\n",
    "                     bottom=ttbar, # there's some stacking-up\n",
    "                     label=r'$Z/\\gamma^{*} + X \\rightarrow 4\\ell$')\n",
    "\n",
    "#  ZZ\n",
    "zz_barplot = plt.bar(center, zz,\n",
    "                     align='center', width=binwidth, color='b',\n",
    "                     linewidth=0, edgecolor='b', alpha=0.5,\n",
    "                     bottom=ttbar+dy, # there's some more stacking\n",
    "                     label=r'$ZZ \\rightarrow 4\\ell$')\n",
    "\n",
    "\n",
    "\n",
    "#  Following the advice of that wonderful SO post I mentioned,\n",
    "#+ I won't have to do as the guide will be doing and re-doing\n",
    "#+ all these plots\n",
    "theory_fig = plt.gcf()\n",
    "theory_axs = plt.gca()\n",
    "\n",
    "ymin=0\n",
    "ymax=25\n",
    "\n",
    "plt.title('$ \\sqrt{s} = 7$ TeV, L = 2.3 $fb^{-1}$; $\\sqrt{s} = 8$ TeV, L = 11.6 $fb^{-1}$ \\n', fontsize=12)\n",
    "plt.xlabel('$m_{0,4\\ell}$ (GeV)', fontsize=15)\n",
    "plt.ylabel('Events / 3 GeV\\n', fontsize=15)\n",
    "plt.ylim(ymin, ymax)\n",
    "plt.xlim(rmin, rmax)\n",
    "plt.legend(fontsize=15)\n",
    "\n",
    "plt.savefig(\"mass_spectrum_theory_wo_higgs.png\", bbox_inches='tight')\n",
    "plt.savefig(\"mass_spectrum_qcd_background.png\", bbox_inches='tight')\n",
    "\n",
    "plt.show()\n",
    "\n",
    "plt.close()"
   ]
  },
  {
   "cell_type": "markdown",
   "id": "f9c32b6c",
   "metadata": {},
   "source": [
    "So, that's what we would expect to see knowing the things we have proven (or at least for which we have rejected the null hypothesis). It's what we would expect to see if there were no Higgs with a mass around $125 \\text{GeV}$ (natural units).\n",
    "\n",
    "There's a big peak there. That just verifies to us that we have a (neutral) Z-boson with a mass of $91.8176 \\pm 0.0021 \\text{GeV}$ as per [this source](https://pdglive.lbl.gov/Particle.action?node=S044) ([archived](https://web.archive.org/web/20230405184856/https://pdglive.lbl.gov/Particle.action?node=S044)). We would hope to have a peak something like that for the Higgs Boson.\n",
    "\n",
    "Now, to put things in a nice order, we're going to plot our measured results - all the stuff from the CSV files. Remember that, back in [Entering in the measured data (for ingestion by matplotlib and numpy and all that)](#Entering-in-the-measured-data), we got `hist` and `bins` by using `numpy.histogram` on our `fourlep_df` (`pandas`) dataframe. We'll use it, now.\n",
    "\n",
    "Our measured (experimental) data values will show up as dots. Lines coming from the dots represent error bars. For me, the y-error makes sense - standard error with $\\sqrt{n}$ and all. It seems that the x-error just represents staying in the bin - which might be all that's needed but I doubt it. z"
   ]
  },
  {
   "cell_type": "code",
   "execution_count": null,
   "id": "f9d55b85",
   "metadata": {},
   "outputs": [],
   "source": [
    "# Here is where the code will come."
   ]
  },
  {
   "cell_type": "markdown",
   "id": "8e7f2208",
   "metadata": {},
   "source": [
    "<br/><br/>\n",
    "<hr/><hr/>\n",
    "\n",
    "## Notes/Appendixes\n",
    "\n",
    "<hr/><hr/>"
   ]
  },
  {
   "cell_type": "markdown",
   "id": "0a935ce5",
   "metadata": {},
   "source": [
    "## HTML Jupyter Refs\n",
    "\n",
    "### We could call it Appendix A-1, read A-minus-one\n",
    "\n",
    "```\n",
    "html_jupyter_ref=\"https://stackoverflow.com/a/39551936/6505499\"\n",
    "archived_html_jupyter_ref_earlier=\"https://web.archive.org/web/\" + \\\n",
    "\"20220525114434/\" + \\\n",
    "\"http://stackoverflow.com:80/questions/21892570/\" + \\\n",
    "\"ipython-notebook-align-table-to-the-left-of-cell\"\n",
    "archived_html_jupyter_ref_now=\"https://web.archive.org/web/\" + \\\n",
    "\"20230317043442/\" + \\\n",
    "\"https://stackoverflow.com/questions/21892570/\" + \\\n",
    "\"ipython-notebook-align-table-to-the-left-of-cell/\"\n",
    "```\n",
    "\n",
    "That one is the best for what I needed. Here are others.\n",
    "\n",
    "```\n",
    "other_ref_1=\"https://stackoverflow.com/questions/36319252/\" + \\\n",
    "\"how-to-revert-to-normal-style-no-style-in-ipython-notebook-\" + \\\n",
    "\"after-calling-html/36336153#36336153\"\n",
    "archived_other_ref_1=\"https://web.archive.org/web/20230317044154/\" + \\\n",
    "\"https://stackoverflow.com/questions/18024769/\" + \\\n",
    "\"adding-custom-styled-paragraphs-in-markdown-cells\"\n",
    "\n",
    "\n",
    "other_ref_2=\"https://stackoverflow.com/questions/18024769/\" + \\\n",
    "\"adding-custom-styled-paragraphs-in-markdown-cells\"\n",
    "archived_other_ref_2=\"https://web.archive.org/web/20230317161215/\" + \\\n",
    "\"https://stackoverflow.com/questions/18024769/\" + \\\n",
    "\"adding-custom-styled-paragraphs-in-markdown-cells\"\n",
    "\n",
    "other_ref_3=\"https://stackoverflow.com/questions/52290219/\" + \\\n",
    "\"how-to-increase-the-font-size-of-the-markdown-\" + \\\n",
    "\"table-in-jupyter-notebook\"\n",
    "archived_other_ref_3=\"https://web.archive.org/web/20230317161621/\" + \\\n",
    "\"https://stackoverflow.com/questions/52290219/\" + \\\n",
    "\"how-to-increase-the-font-size-of-the-markdown-\" + \\\n",
    "\"table-in-jupyter-notebook\"\n",
    "```\n",
    "\n",
    "#### Other info about magic functions. Just archived links for now.\n",
    "\n",
    "(I can get the original link from them, anyway, as long as I'm not linking to a specific answer/anchor.)\n",
    "\n",
    "```\n",
    "archived_magic_ref_1=\"https://web.archive.org/web/20230316174653/\" + \\\n",
    "\"https://stackoverflow.com/questions/32565829/\" + \\\n",
    "\"simple-way-to-measure-cell-execution-time-in-ipython-notebook\"\n",
    "\n",
    "archived_magic_ref_2=\"https://web.archive.org/web/20230314233246/\" + \\\n",
    "\"https://ipython.org/ipython-doc/dev/\" + \\\n",
    "\"interactive/tutorial.html#magic-functions\"\n",
    "\n",
    "archived_magic_ref_3=\"https://web.archive.org/web/20221128083253/\" + \\\n",
    "\"https://nbviewer.org/github/ipython/ipython/\" + \\\n",
    "\"blob/1.x/examples/notebooks/Cell%20Magics.ipynb\"\n",
    "```"
   ]
  },
  {
   "cell_type": "markdown",
   "id": "1fae2f93",
   "metadata": {},
   "source": [
    "\n",
    "## Pandas File-Loading Problems\n",
    "\n",
    "### We could call it Appendix A\n",
    "\n",
    "```\n",
    "anchor_ref=\"https://stackoverflow.com/questions/16630969/\" + \\\n",
    "\"ipython-notebook-anchor-link-to-refer-a-cell-directly-from-outside\"\n",
    "archived_anchor_ref=\"https://web.archive.org/web/20230316174643/\" + \\\n",
    "\"https://stackoverflow.com/questions/16630969/\" + \\\n",
    "\"ipython-notebook-anchor-link-to-refer-a-cell-directly-from-outside\"\n",
    "```\n",
    "\n",
    "From here ... (The following link is broken - it was a noble attempt, though.)\n",
    "\n",
    "[This link/anchor is not used for the other, get-to-appendix task](#not-this-anchor), because the header name can be used, but showing a concept with &lt;a&gt;. The concept with &lt;a&gt; doesn't seem to work.\n",
    "\n",
    "### Start of important stuff in Appendix A - an attempt to read in the files\n",
    "\n",
    "Now, let's read in the CSV files for each of those three possibilities. We'll take a quick peek at the data, but not too much (there's a bunch). We'll look more carefully at a few of the columns and figure out the physics.\n",
    "\n",
    "( _DWB note_, 20230315T175999-0600 ) Using `pd.read_csv` continues to get me `HTTPError: HTTP Error 504: Gateway Time-out` errors. I'm going to switch to using the `requests` module. I will keep my reference on some options from [this SO reference](https://stackoverflow.com/questions/16694907/download-large-file-in-python-with-requests) ([archived](https://web.archive.org/web/20230316000241/https://stackoverflow.com/questions/16694907/download-large-file-in-python-with-requests)).\n",
    "\n",
    "_I'm also including a possibly-relevant-but-I'm-not-taking-the-time-to-learn-something-that-new source_\n",
    "\n",
    "_&lt;not-now-source&gt;_\n",
    "<br/>\n",
    "```\n",
    "ref=\"https://stackoverflow.com/questions/15786421/\" + \\\n",
    "\"http-error-504-gateway-time-out-when-trying-to-read-a-reddit-comments-post\"\n",
    "archived_ref=\"https://web.archive.org/web/20230316001420/\" + \\\n",
    "\"https://stackoverflow.com/questions/15786421/\" + \\\n",
    "\"http-error-504-gateway-time-out-when-trying-to-read-a-reddit-comments-post\"\n",
    "```\n",
    "\n",
    "_&lt;/not-now-source&gt;_\n",
    "\n",
    "<br/>\n",
    "\n",
    "After a git commit, I'm putting the non-working code in this markdown cell and trying to use the new code.\n",
    "\n",
    "<br/>\n",
    "\n",
    "_&lt;not-working-now-but-I-doubt-it's-broken-code&gt;_\n",
    "\n",
    "<br/>\n",
    "\n",
    "#### First attempt\n",
    "\n",
    "```\n",
    "#4 electrons as daughter particles (two years' data)\n",
    "the_4e_lepton_participants_2011 = \\\n",
    "  pd.read_csv(\n",
    "    'http://opendata.cern.ch/record/5200/files/4e_2011.csv')\n",
    "the_4e_lepton_participants_2012 = \\\n",
    "  pd.read_csv(\n",
    "    'http://opendata.cern.ch/record/5200/files/4e_2012.csv')\n",
    "\n",
    "# 4 muons as daughter particles (two years' data)\n",
    "the_4mu_lepton_participants_2011 = \\\n",
    "  pd.read_csv(\n",
    "    'http://opendata.cern.ch/record/5200/files/4mu_2011.csv')\n",
    "the_4mu_lepton_participants_2012 = \\\n",
    "  pd.read_csv(\n",
    "    'http://opendata.cern.ch/record/5200/files/4mu_2012.csv')\n",
    "\n",
    "# 2 electrons and 2 muons as daughter particles (two years' data)\n",
    "the_2e2mu_lepton_participants_2011 = \\\n",
    "  pd.read_csv(\n",
    "    'http://opendata.cern.ch/record/5200/files/2e2mu_2011.csv')\n",
    "the_2e2mu_lepton_participants_2012 = \\\n",
    "  pd.read_csv(\n",
    "    'http://opendata.cern.ch/record/5200/files/2e2mu_2012.csv')\n",
    "\n",
    "\n",
    "##########################################\n",
    "##  A peek at the data for 4e from 2011 ##\n",
    "##+ Side scrolling will be necessary    ##\n",
    "##########################################\n",
    "the_4e_lepton_participants_2011.head()\n",
    "```\n",
    "\n",
    "##### Not getting anything usable due to the HTMLError\n",
    "\n",
    "<br/><br/>\n",
    "\n",
    "#### Trying the original reading-in from the guide\n",
    "\n",
    "```\n",
    "##  DWB, 20230315T180500-0600\n",
    "##+ Trying the strategy used in the original guide.\n",
    "##+ orig_ref=\"https://opendata-education.github.io/en_Workshops/\" + \\\n",
    "##+ \"exercises/Hunting-the-Higgs-4leptons.html\"\n",
    "##+ orig_ref_archived=\"https://web.archive.org/web/20230316000855/\" + \\\n",
    "##+ \"https://opendata-education.github.io/en_Workshops/\" + \\\n",
    "##+ \"exercises/Hunting-the-Higgs-4leptons.html\"\n",
    "##+\n",
    "##+ It didn't work, either (same `HTTPError: HTTP Error 504: Gateway Time-out`)\n",
    "\n",
    "# Data for later use. \n",
    "csvs = [pd.read_csv('http://opendata.cern.ch/record/5200/files/4mu_2011.csv'), pd.read_csv('http://opendata.cern.ch/record/5200/files/4e_2011.csv'), pd.read_csv('http://opendata.cern.ch/record/5200/files/2e2mu_2011.csv')]\n",
    "csvs += [pd.read_csv('http://opendata.cern.ch/record/5200/files/4mu_2012.csv'), pd.read_csv('http://opendata.cern.ch/record/5200/files/4e_2012.csv'), pd.read_csv('http://opendata.cern.ch/record/5200/files/2e2mu_2012.csv')]\n",
    "\n",
    "fourlep = pd.concat(csvs)\n",
    "```\n",
    "\n",
    "##### Not getting anything usable due to the HTMLError\n",
    "\n",
    "<br/>\n",
    "\n",
    "_&lt;not-working-now-but-I-doubt-it's-broken-code&gt;_\n",
    "\n",
    "Will try something else.\n",
    "\n",
    "<br/>\n",
    "<br/>\n",
    "\n",
    "<hr/>"
   ]
  },
  {
   "cell_type": "markdown",
   "id": "ba45488e",
   "metadata": {},
   "source": [
    "... to here.\n",
    "\n",
    "<a id=\"#not-this-anchor\"></a>\n",
    "The line above this only contains '`<a id=\"#not-this-anchor\"></a>`'\n",
    "\n",
    "And we should be looking at what is beneath that line.\n",
    "\n",
    "**But, apparently, it doesn't work. I'll need to use the names of the headers.**"
   ]
  },
  {
   "cell_type": "markdown",
   "id": "ee29a954",
   "metadata": {},
   "source": [
    "<hr/>"
   ]
  },
  {
   "cell_type": "markdown",
   "id": "059a03a8",
   "metadata": {},
   "source": [
    "\n",
    "## Line Counting Discussion\n",
    "\n",
    "### We could call it Appendix B\n",
    "\n",
    "I think the best discussion of the most optimized line-counting algorithm is at\n",
    "\n",
    "```\n",
    "lc_ref_1=\"https://stackoverflow.com/questions/845058/\" + \\\n",
    "\"how-to-get-line-count-of-a-large-file-cheaply-in-python/27518377#27518377\"\n",
    "archived_lc_ref_1=\"https://web.archive.org/web/20230316221423/\" + \\\n",
    "\"https://stackoverflow.com/questions/845058/\" + \\\n",
    "\"how-to-get-line-count-of-a-large-file-cheaply-in-python/27518377#27518377\"\n",
    "```\n",
    "\n",
    "Look for the answer from @Michael_Bacon, then you can read the answer by @Ryan_Ginstrom to give some background. I would go straight to the archived version if you're searching for those answers - that's why I archived it.\n",
    "\n",
    "The answer by adds generator/buffer solutions, not discussed by @Ryan_Ginstrom, but one of which is also discussed in another good source,\n",
    "\n",
    "```\n",
    "lc_ref_2=\"https://pynative.com/python-count-number-of-lines-in-file/\"\n",
    "archived_lc_ref_2=\"https://web.archive.org/web/20230316215432/\" + \\\n",
    "\"https://pynative.com/python-count-number-of-lines-in-file/\"\n",
    "```\n",
    "\n",
    "There's also a decent discussion from geeksforgeeks, which includes some Big Oh discussion, but it's not as comprehensive as the other two and doesn't discuss the generator stuff.\n",
    "\n",
    "```\n",
    "lc_ref_3=\"https://www.geeksforgeeks.org/count-number-of-lines-\" + \\\n",
    "\"in-a-text-file-in-python/\"\n",
    "archived_anchor_ref=\"https://web.archive.org/web/20230306171715/\" + \\\n",
    "\"https://www.geeksforgeeks.org/count-number-of-lines-\" + \\\n",
    "\"in-a-text-file-in-python/\"\n",
    "```"
   ]
  },
  {
   "cell_type": "markdown",
   "id": "d31c9b3a",
   "metadata": {},
   "source": [
    "<hr/>"
   ]
  },
  {
   "cell_type": "markdown",
   "id": "6790a27c",
   "metadata": {},
   "source": [
    "## More Dataframe Info\n",
    "\n",
    "### We could call it Appendix C"
   ]
  },
  {
   "cell_type": "code",
   "execution_count": null,
   "id": "a6580684",
   "metadata": {},
   "outputs": [],
   "source": [
    "my_4e2011_df.info()"
   ]
  },
  {
   "cell_type": "markdown",
   "id": "517a74d5",
   "metadata": {},
   "source": [
    "The output was\n",
    "\n",
    "```\n",
    "<class 'pandas.core.frame.DataFrame'>\n",
    "RangeIndex: 7 entries, 0 to 6\n",
    "Data columns (total 41 columns):\n",
    " #   Column  Non-Null Count  Dtype  \n",
    "---  ------  --------------  -----  \n",
    " 0   Run     7 non-null      int64  \n",
    " 1   Event   7 non-null      int64  \n",
    " 2   PID1    7 non-null      int64  \n",
    " 3   E1      7 non-null      float64\n",
    " 4   px1     7 non-null      float64\n",
    " 5   py1     7 non-null      float64\n",
    " 6   pz1     7 non-null      float64\n",
    " 7   pt1     7 non-null      float64\n",
    " 8   eta1    7 non-null      float64\n",
    " 9   phi1    7 non-null      float64\n",
    " 10  Q1      7 non-null      int64  \n",
    " 11  PID2    7 non-null      int64  \n",
    " 12  E2      7 non-null      float64\n",
    " 13  px2     7 non-null      float64\n",
    " 14  py2     7 non-null      float64\n",
    " 15  pz2     7 non-null      float64\n",
    " 16  pt2     7 non-null      float64\n",
    " 17  eta2    7 non-null      float64\n",
    " 18  phi2    7 non-null      float64\n",
    " 19  Q2      7 non-null      int64  \n",
    " 20  PID3    7 non-null      int64  \n",
    " 21  E3      7 non-null      float64\n",
    " 22  px3     7 non-null      float64\n",
    " 23  py3     7 non-null      float64\n",
    " 24  pz3     7 non-null      float64\n",
    " 25  pt3     7 non-null      float64\n",
    " 26  eta3    7 non-null      float64\n",
    " 27  phi3    7 non-null      float64\n",
    " 28  Q3      7 non-null      int64  \n",
    " 29  PID4    7 non-null      int64  \n",
    " 30  E4      7 non-null      float64\n",
    " 31  px4     7 non-null      float64\n",
    " 32  py4     7 non-null      float64\n",
    " 33  pz4     7 non-null      float64\n",
    " 34  pt4     7 non-null      float64\n",
    " 35  eta4    7 non-null      float64\n",
    " 36  phi4    7 non-null      float64\n",
    " 37  Q4      7 non-null      int64  \n",
    " 38  mZ1     7 non-null      float64\n",
    " 39  mZ2     7 non-null      float64\n",
    " 40  M       7 non-null      float64\n",
    "dtypes: float64(31), int64(10)\n",
    "memory usage: 2.4 KB\n",
    "```"
   ]
  },
  {
   "cell_type": "markdown",
   "id": "528e63f9",
   "metadata": {},
   "source": [
    "<hr/>"
   ]
  },
  {
   "cell_type": "markdown",
   "id": "2d6cc94a",
   "metadata": {},
   "source": [
    "## Appendix D\n",
    "\n",
    "### In which I put all of the HTML style stuff that I won't use\n",
    "\n",
    "I wanted to make a nice button, as I talked about above, and as I show below.\n",
    "\n",
    "<br/>\n",
    "<div style=\"\">\n",
    "  <img src=\"./the_old_button.png\"\n",
    "       alt=\"The old table-slash-button to skip physics\"\n",
    "       style=\"width: 350px; display: inline-block;\">\n",
    "</div>\n",
    "<br/>\n",
    "\n",
    "The magic HTML code will clear any weird (HTML) table formatting (maybe from a `pandas` `dataframe.head()` call). Things just look better. It was only for Jupyter notebooks. I figured it was better to mess with a less-than-ideal physics-skipping button than to mess with all the Pandas output and be unsure about other HTML table output. To make the button nice, I used a code cell with the following in it. Again, this was all in a single, code, input cell. I'd put it in and execute it when needed.\n",
    "\n",
    "```\n",
    "%%HTML\n",
    "<style>\n",
    "<!-- Note that I can do comments. -->\n",
    "table {\n",
    "    margin-right:auto; \n",
    "    margin-left: 0px !important;\n",
    "    display: block;\n",
    "}\n",
    "th,tr,td {\n",
    "    font-size: 150%;\n",
    "}\n",
    "</style>\n",
    "```\n",
    "\n",
    "To make it not-so-nice for the button, but good for the `pandas.head()` display, I would put in another code cell and execute\n",
    "\n",
    "```\n",
    "%%HTML\n",
    "<style>\n",
    "table {\n",
    "    margin-right:auto; \n",
    "    margin-left: auto;\n",
    "    display: auto;\n",
    "}\n",
    "th,tr,td {\n",
    "    font-size: 100%;\n",
    "}\n",
    "</style>\n",
    "```\n",
    "\n",
    "That was as close as I could figure for a <kbd>Ctrl</kbd>+<kbd>z</kbd> Undo thingy.\n",
    "\n",
    "I think that's a useful note to have floating around for later. For my main visualization, it seems overkill, though."
   ]
  },
  {
   "cell_type": "markdown",
   "id": "7fbb6cd9",
   "metadata": {},
   "source": [
    "## Appendix E\n",
    "\n",
    "### How to launch the MyBinder stuff for an interactive, online (Jupyter) notebook\n",
    "\n",
    "So, you've gotten an error that looks like the following, which I promised full-size, and which finally shows up full-size after doing some pretty explicit telling-it-to-do-so with my HTML. In case that doesn't seem useful, I'll just have it fill the screen in the next image's div. After than I'll show you how to fire up MyBinder to give you my notebook interactively.\n",
    "\n",
    "#### THE ERROR, full-size\n",
    "\n",
    "<br/>\n",
    "<div style=\"width: 1142px; overflow: auto;\">\n",
    "  <img src=\"./mybinder_is_gone.png\"\n",
    "       alt=\"A screencap of the MyBinder Error, Oops! We can't seem to find the binder ...\"\n",
    "       style=\"width: 1142px; display: block; border: 1px solid black;\">\n",
    "</div>\n",
    "<br/>"
   ]
  },
  {
   "cell_type": "markdown",
   "id": "d239a840",
   "metadata": {},
   "source": [
    "#### THE ERROR, perhaps in a more useful view\n",
    "\n",
    "<br/>\n",
    "<div>\n",
    "  <img src=\"./mybinder_is_gone.png\"\n",
    "       alt=\"A screencap of the MyBinder Error, Oops! We can't seem to find the binder ...\"\n",
    "       style=\"width: 100%; display: block; border: 1px solid black;\">\n",
    "</div>\n",
    "<br/>"
   ]
  },
  {
   "cell_type": "markdown",
   "id": "28c2481e",
   "metadata": {},
   "source": [
    "#### THE SOLUTION\n",
    "\n",
    "Here's how to get my notebook showing up on MyBinder. You can use it to get your Jupyter Notebook, hanging out in your GitHub repo, showing up on MyBinder, too. I hope this can be a sort of tutorial or step-by-step to getting your Jupyter Notebook accessible and interactive online, so others can use it without having to set up the command-line stuff.\n",
    "\n",
    "The *TL;DR* is to go to https://mybinder.org, then fill it out as follows and mash \"launch\"\n",
    "\n",
    "<br/>\n",
    "<div>\n",
    "  <img src=\"./mybinder_is_gone_fix.png\"\n",
    "       alt=\"A screencap of how to fix it when MyBinder can't seem to find your binder.\"\n",
    "       style=\"width: 100%; display: block; border: 1px solid black;\">\n",
    "</div>\n",
    "<br/>\n",
    "\n",
    "You can copy\\paste the following into the fields, one at a time.\n",
    "\n",
    "\\[Make sure the dropdown has `GitHub`\\]\n",
    "\n",
    "`https://github.com/bballdave025/higgs_boson_visualized/`\n",
    "\n",
    "`main`\n",
    "\n",
    "`Higgs_Boson_Discovery_Visualization.ipynb`\n",
    "\n",
    "\\[Make sure the dropdown has `File`\\]\n",
    "\n",
    "Now you can press <kbd>Launch</kbd>\n",
    "\n",
    "I'd also appreciate it if you'd let me know there's this issue on the `Issues` tab/page for this repo. Please feel free to put in whatever URL you got for the final, working MyBinder."
   ]
  },
  {
   "cell_type": "markdown",
   "id": "cb57172c",
   "metadata": {},
   "source": [
    "<hr/>"
   ]
  },
  {
   "cell_type": "markdown",
   "id": "ef2ed8d0",
   "metadata": {},
   "source": [
    "## Other Potentially-Useless Sources\n",
    "\n",
    "### We could call it Appendix Z - I don't know how far I'll get with other appendixes<strike>dices</strike>\n",
    "\n",
    "```\n",
    "archived_opus_ref_01=\"https://web.archive.org/web/20230318231017/\" + \\\n",
    "\"https://pandas.pydata.org/docs/getting_started/\" + \\\n",
    "\"intro_tutorials/03_subset_data.html\"\n",
    "\n",
    "#  Good reference not only for slicing a data frame, but also for\n",
    "#+ generating one with random values\n",
    "archived_many_pandas=\"https://web.archive.org/web/20230319031822/\" + \\\n",
    "\"https://stackoverflow.com/questions/11285613/\" + \\\n",
    "\"selecting-multiple-columns-in-a-pandas-dataframe\"\n",
    "\n",
    "https://web.archive.org/web/20230411201538/https://cds.cern.ch/record/454171/files/p41.pdf\n",
    "https://web.archive.org/web/20230411203634/https://physics.stackexchange.com/questions/304869/systematic-way-to-draw-all-inequivalent-feynman-diagrams\n",
    "https://web.archive.org/web/20210405103246/https://www.science.gov/topicpages/q/qcd+feynman+rules\n",
    "\n",
    "https://web.archive.org/web/20230406172723/https://stackoverflow.com/questions/48933714/scroll-full-image-inside-div\n",
    "https://web.archive.org/web/20230406173523/https://tex.stackexchange.com/questions/349926/how-to-un-italicize-text-in-equations-math\n",
    "https://web.archive.org/web/20230406173613/https://stackoverflow.com/questions/13714454/specifying-and-saving-a-figure-with-exact-size-in-pixels\n",
    "https://web.archive.org/web/20230406173838/https://stackoverflow.com/questions/21875356/saving-a-figure-after-invoking-pyplot-show-results-in-an-empty-file\n",
    "https://web.archive.org/web/20230409143945/https://stackoverflow.com/questions/4037939/powershell-says-execution-of-scripts-is-disabled-on-this-system\n",
    "https://web.archive.org/web/20230407062044/https://stackoverflow.com/questions/9622163/save-plot-to-image-file-instead-of-displaying-it-using-matplotlib\n",
    "```"
   ]
  },
  {
   "cell_type": "code",
   "execution_count": null,
   "id": "87cd9109",
   "metadata": {},
   "outputs": [],
   "source": []
  }
 ],
 "metadata": {
  "kernelspec": {
   "display_name": "Python 3 (ipykernel)",
   "language": "python",
   "name": "python3"
  },
  "language_info": {
   "codemirror_mode": {
    "name": "ipython",
    "version": 3
   },
   "file_extension": ".py",
   "mimetype": "text/x-python",
   "name": "python",
   "nbconvert_exporter": "python",
   "pygments_lexer": "ipython3",
   "version": "3.10.9"
  }
 },
 "nbformat": 4,
 "nbformat_minor": 5
}
